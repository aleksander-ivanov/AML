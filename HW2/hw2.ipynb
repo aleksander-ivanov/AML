{
 "cells": [
  {
   "cell_type": "markdown",
   "source": [
    "# Домашнее задание \"Функции потерь и оптимизация\"\r\n"
   ],
   "metadata": {}
  },
  {
   "cell_type": "markdown",
   "source": [
    "Прочитать про методы оптимизации для нейронных сетей https: // habr.com/post/318970/\r\n",
    "Реализовать самостоятельно логистическую регрессию\r\n",
    "Обучить ее методом градиентного спуска\r\n",
    "Методом nesterov momentum\r\n",
    "Методом rmsprop\r\n",
    "\r\n",
    "Дополнительное задание *\r\n",
    "В качестве dataset’а взять Iris, оставив 2 класса:\r\n",
    "Iris Versicolor\r\n",
    "Iris Virginica\r\n"
   ],
   "metadata": {}
  },
  {
   "cell_type": "code",
   "execution_count": 89,
   "source": [
    "import numpy as np\r\n",
    "import pandas as pd\r\n",
    "import matplotlib.pyplot as plt\r\n",
    "from sklearn.datasets import make_classification\r\n",
    "from sklearn import datasets\r\n",
    "from sklearn.model_selection import train_test_split\r\n",
    "from sklearn.model_selection import StratifiedKFold\r\n"
   ],
   "outputs": [],
   "metadata": {}
  },
  {
   "cell_type": "code",
   "execution_count": 90,
   "source": [
    "class logistic_regression():\r\n",
    "    def __init__(self):\r\n",
    "        pass\r\n",
    "\r\n",
    "    def sigmoid(self, x):\r\n",
    "        z = 1 / (1 + np.exp(-x))\r\n",
    "        return z\r\n",
    "\r\n",
    "    def initialize_params(self, dims):\r\n",
    "        W = np.zeros((dims, 1))\r\n",
    "        b = 0\r\n",
    "        return W, b\r\n",
    "\r\n",
    "    def logistic(self, X, y, W, b):\r\n",
    "        num_train = X.shape[0]\r\n",
    "        num_feature = X.shape[1]\r\n",
    "\r\n",
    "        a = self.sigmoid(np.dot(X, W) + b)\r\n",
    "        cost = -1 / num_train * np.sum(y * np.log(a) + (1 - y) * np.log(1 - a))\r\n",
    "\r\n",
    "        dW = np.dot(X.T, (a - y)) / num_train\r\n",
    "        db = np.sum(a - y) / num_train\r\n",
    "        cost = np.squeeze(cost)\r\n",
    "        return a, cost, dW, db\r\n",
    "\r\n",
    "    def logistic_train(self, X, y, learning_rate, epochs):\r\n",
    "        W, b = self.initialize_params(X.shape[1])\r\n",
    "        cost_list = []\r\n",
    "        for i in range(epochs):\r\n",
    "            a, cost, dW, db = self.logistic(X, y, W, b)\r\n",
    "            W = W - learning_rate * dW\r\n",
    "            b = b - learning_rate * db\r\n",
    "            if i % 100 == 0:\r\n",
    "                cost_list.append(cost)\r\n",
    "            if i % 100 == 0:\r\n",
    "                print('epoch %d cost %f' % (i, cost))\r\n",
    "\r\n",
    "        params = {\r\n",
    "            'W': W,\r\n",
    "            'b': b\r\n",
    "        }\r\n",
    "        grads = {\r\n",
    "            'dW': dW,\r\n",
    "            'db': db\r\n",
    "        }\r\n",
    "\r\n",
    "        return cost_list, params, grads\r\n",
    "\r\n",
    "    def predict(self, X, params):\r\n",
    "        y_prediction = self.sigmoid(np.dot(X, params['W']) + params['b'])\r\n",
    "        for i in range(len(y_prediction)):\r\n",
    "            if y_prediction[i] > 0.5:\r\n",
    "                y_prediction[i] = 1\r\n",
    "            else:\r\n",
    "                y_prediction[i] = 0\r\n",
    "\r\n",
    "        return y_prediction\r\n",
    "\r\n",
    "    def accuracy(self, y_test, y_pred):\r\n",
    "        correct_count = 0\r\n",
    "        for i in range(len(y_test)):\r\n",
    "            for j in range(len(y_pred)):\r\n",
    "                if y_test[i] == y_pred[j] and i == j:\r\n",
    "                    correct_count += 1\r\n",
    "\r\n",
    "        accuracy_score = correct_count / len(y_test)\r\n",
    "        return accuracy_score    "
   ],
   "outputs": [],
   "metadata": {}
  },
  {
   "cell_type": "code",
   "execution_count": 91,
   "source": [
    "def generate_test_data():\r\n",
    "    X, labels = make_classification(\r\n",
    "        n_samples=100, n_features=2, n_redundant=0, n_informative=2, random_state=1, n_clusters_per_class=2)\r\n",
    "    labels = labels.reshape((-1, 1))\r\n",
    "    offset = int(X.shape[0] * 0.9)\r\n",
    "    X_train, y_train = X[:offset], labels[:offset]\r\n",
    "    X_test, y_test = X[offset:], labels[offset:]\r\n",
    "    return X_train, y_train, X_test, y_test"
   ],
   "outputs": [],
   "metadata": {}
  },
  {
   "cell_type": "code",
   "execution_count": 92,
   "source": [
    "def visualize_logistic(X_train, y_train, params):\r\n",
    "    n = X_train.shape[0]\r\n",
    "\r\n",
    "    xcord1 = []\r\n",
    "    ycord1 = []\r\n",
    "    xcord2 = []\r\n",
    "    ycord2 = []\r\n",
    "\r\n",
    "    for i in range(n):\r\n",
    "        if y_train[i] == 1:\r\n",
    "            xcord1.append(X_train[i][0])\r\n",
    "            ycord1.append(X_train[i][1])\r\n",
    "        else:\r\n",
    "            xcord2.append(X_train[i][0])\r\n",
    "            ycord2.append(X_train[i][1])\r\n",
    "\r\n",
    "    fig = plt.figure()\r\n",
    "    ax = fig.add_subplot(111)\r\n",
    "\r\n",
    "    ax.scatter(xcord1, ycord1, s=32, c='red')\r\n",
    "    ax.scatter(xcord2, ycord2, s=32, c='green')\r\n",
    "\r\n",
    "    x = np.arange(-1.5, 3, 0.1)\r\n",
    "    y = (-params['b'] - params['W'][0] * x) / params['W'][1]\r\n",
    "\r\n",
    "    ax.plot(x, y)\r\n",
    "    plt.xlabel('X1')\r\n",
    "    plt.ylabel('X2')\r\n",
    "    plt.show()\r\n"
   ],
   "outputs": [],
   "metadata": {}
  },
  {
   "cell_type": "code",
   "execution_count": 93,
   "source": [
    "# Logic test\r\n",
    "model = logistic_regression()\r\n",
    "X_train, y_train, X_test, y_test = generate_test_data()\r\n",
    "print(X_train.shape, y_train.shape, X_test.shape, y_test.shape)\r\n",
    "\r\n",
    "cost_list, params, grads = model.logistic_train(X_train, y_train, 0.01, 1000)\r\n",
    "print(params)\r\n",
    "\r\n",
    "y_train_pred = model.predict(X_train, params)\r\n",
    "accuracy_score_train = model.accuracy(y_train, y_train_pred)\r\n",
    "print('train accuracy is:', accuracy_score_train)\r\n",
    "\r\n",
    "y_test_pred = model.predict(X_test, params)\r\n",
    "accuracy_score_test = model.accuracy(y_test, y_test_pred)\r\n",
    "print('test accuracy is:', accuracy_score_test)\r\n",
    "\r\n",
    "visualize_logistic(X_train, y_train, params)"
   ],
   "outputs": [
    {
     "output_type": "stream",
     "name": "stdout",
     "text": [
      "(90, 2) (90, 1) (10, 2) (10, 1)\n",
      "epoch 0 cost 0.693147\n",
      "epoch 100 cost 0.521480\n",
      "epoch 200 cost 0.416359\n",
      "epoch 300 cost 0.347951\n",
      "epoch 400 cost 0.300680\n",
      "epoch 500 cost 0.266327\n",
      "epoch 600 cost 0.240328\n",
      "epoch 700 cost 0.220002\n",
      "epoch 800 cost 0.203687\n",
      "epoch 900 cost 0.190306\n",
      "{'W': array([[ 2.04608084],\n",
      "       [-0.03964634]]), 'b': 0.12335926234285084}\n",
      "train accuracy is: 0.9666666666666667\n",
      "test accuracy is: 1.0\n"
     ]
    },
    {
     "output_type": "display_data",
     "data": {
      "text/plain": [
       "<Figure size 432x288 with 1 Axes>"
      ],
      "image/png": "[encoded data removed]"
     },
     "metadata": {
      "needs_background": "light"
     }
    }
   ],
   "metadata": {}
  },
  {
   "cell_type": "code",
   "execution_count": 94,
   "source": [
    "# Доп задание\r\n",
    "iris = datasets.load_iris(as_frame=True)\r\n",
    "iris_df = iris.data\r\n",
    "\r\n",
    "iris_df['target'] = pd.Series(iris.target)\r\n",
    "iris_df = iris_df.loc[iris_df['target'] != 0]  # filter 'SETOSA' class\r\n",
    "iris_df.head()\r\n"
   ],
   "outputs": [
    {
     "output_type": "execute_result",
     "data": {
      "text/plain": [
       "    sepal length (cm)  sepal width (cm)  petal length (cm)  petal width (cm)  \\\n",
       "50                7.0               3.2                4.7               1.4   \n",
       "51                6.4               3.2                4.5               1.5   \n",
       "52                6.9               3.1                4.9               1.5   \n",
       "53                5.5               2.3                4.0               1.3   \n",
       "54                6.5               2.8                4.6               1.5   \n",
       "\n",
       "    target  \n",
       "50       1  \n",
       "51       1  \n",
       "52       1  \n",
       "53       1  \n",
       "54       1  "
      ],
      "text/html": [
       "<div>\n",
       "<style scoped>\n",
       "    .dataframe tbody tr th:only-of-type {\n",
       "        vertical-align: middle;\n",
       "    }\n",
       "\n",
       "    .dataframe tbody tr th {\n",
       "        vertical-align: top;\n",
       "    }\n",
       "\n",
       "    .dataframe thead th {\n",
       "        text-align: right;\n",
       "    }\n",
       "</style>\n",
       "<table border=\"1\" class=\"dataframe\">\n",
       "  <thead>\n",
       "    <tr style=\"text-align: right;\">\n",
       "      <th></th>\n",
       "      <th>sepal length (cm)</th>\n",
       "      <th>sepal width (cm)</th>\n",
       "      <th>petal length (cm)</th>\n",
       "      <th>petal width (cm)</th>\n",
       "      <th>target</th>\n",
       "    </tr>\n",
       "  </thead>\n",
       "  <tbody>\n",
       "    <tr>\n",
       "      <th>50</th>\n",
       "      <td>7.0</td>\n",
       "      <td>3.2</td>\n",
       "      <td>4.7</td>\n",
       "      <td>1.4</td>\n",
       "      <td>1</td>\n",
       "    </tr>\n",
       "    <tr>\n",
       "      <th>51</th>\n",
       "      <td>6.4</td>\n",
       "      <td>3.2</td>\n",
       "      <td>4.5</td>\n",
       "      <td>1.5</td>\n",
       "      <td>1</td>\n",
       "    </tr>\n",
       "    <tr>\n",
       "      <th>52</th>\n",
       "      <td>6.9</td>\n",
       "      <td>3.1</td>\n",
       "      <td>4.9</td>\n",
       "      <td>1.5</td>\n",
       "      <td>1</td>\n",
       "    </tr>\n",
       "    <tr>\n",
       "      <th>53</th>\n",
       "      <td>5.5</td>\n",
       "      <td>2.3</td>\n",
       "      <td>4.0</td>\n",
       "      <td>1.3</td>\n",
       "      <td>1</td>\n",
       "    </tr>\n",
       "    <tr>\n",
       "      <th>54</th>\n",
       "      <td>6.5</td>\n",
       "      <td>2.8</td>\n",
       "      <td>4.6</td>\n",
       "      <td>1.5</td>\n",
       "      <td>1</td>\n",
       "    </tr>\n",
       "  </tbody>\n",
       "</table>\n",
       "</div>"
      ]
     },
     "metadata": {},
     "execution_count": 94
    }
   ],
   "metadata": {}
  },
  {
   "cell_type": "code",
   "execution_count": 95,
   "source": [
    "# List of suppported Iris classes.\r\n",
    "iris_types = ['VERSICOLOR', 'VIRGINICA']\r\n",
    "\r\n",
    "x_axis = 'petal length (cm)'\r\n",
    "y_axis = 'petal width (cm)'\r\n",
    "\r\n",
    "# Plot the scatter for every type of Iris.\r\n",
    "for idx, iris_type in enumerate(iris_types):\r\n",
    "    plt.scatter(\r\n",
    "        iris_df[x_axis][iris_df['target'] == idx+1],\r\n",
    "        iris_df[y_axis][iris_df['target'] == idx+1],\r\n",
    "        label=iris_type\r\n",
    "    )\r\n",
    "\r\n",
    "# Plot the data.\r\n",
    "plt.xlabel(x_axis)\r\n",
    "plt.ylabel(y_axis)\r\n",
    "plt.title('Iris Types')\r\n",
    "plt.legend()\r\n",
    "plt.show()\r\n"
   ],
   "outputs": [
    {
     "output_type": "display_data",
     "data": {
      "text/plain": [
       "<Figure size 432x288 with 1 Axes>"
      ],
      "image/png": "[encoded data removed]"
     },
     "metadata": {
      "needs_background": "light"
     }
    }
   ],
   "metadata": {}
  },
  {
   "cell_type": "code",
   "execution_count": 96,
   "source": [
    "X, y = iris_df[iris.feature_names].values, iris_df['target'].values\r\n",
    "y = y.reshape((-1, 1))\r\n",
    "\r\n",
    "# Stratified k-fold cross validation\r\n",
    "skf = StratifiedKFold(n_splits=5, random_state=None)\r\n",
    "\r\n",
    "for train_index, test_index in skf.split(X, y):\r\n",
    "    X_train, X_test = X[train_index], X[test_index]\r\n",
    "    y_train, y_test = y[train_index], y[test_index]\r\n",
    "\r\n",
    "model = logistic_regression()\r\n",
    "print(X_train.shape, y_train.shape, X_test.shape, y_test.shape)\r\n",
    "\r\n",
    "cost_list, params, grads = model.logistic_train(X_train, y_train, 0.01, 1000)\r\n",
    "print(params)\r\n",
    "\r\n",
    "y_train_pred = model.predict(X_train, params)\r\n",
    "accuracy_score_train = model.accuracy(y_train, y_train_pred)\r\n",
    "print('train accuracy is:', accuracy_score_train)\r\n",
    "\r\n",
    "y_test_pred = model.predict(X_test, params)\r\n",
    "accuracy_score_test = model.accuracy(y_test, y_test_pred)\r\n",
    "print('test accuracy is:', accuracy_score_test)\r\n",
    "\r\n",
    "visualize_logistic(X_train, y_train, params)\r\n"
   ],
   "outputs": [
    {
     "output_type": "stream",
     "name": "stdout",
     "text": [
      "(80, 4) (80, 1) (20, 4) (20, 1)\n",
      "epoch 0 cost 0.693147\n",
      "epoch 100 cost nan\n",
      "epoch 200 cost nan\n",
      "epoch 300 cost nan\n",
      "epoch 400 cost nan\n",
      "epoch 500 cost nan\n",
      "epoch 600 cost nan\n",
      "epoch 700 cost nan\n",
      "epoch 800 cost nan\n",
      "epoch 900 cost nan\n",
      "{'W': array([[33.19731533],\n",
      "       [14.83864225],\n",
      "       [28.10367927],\n",
      "       [ 9.97219369]]), 'b': 5.013584141280552}\n",
      "train accuracy is: 0.5\n",
      "test accuracy is: 0.5\n"
     ]
    },
    {
     "output_type": "stream",
     "name": "stderr",
     "text": [
      "<ipython-input-90-53e5b9d271f7>:19: RuntimeWarning: divide by zero encountered in log\n",
      "  cost = -1 / num_train * np.sum(y * np.log(a) + (1 - y) * np.log(1 - a))\n",
      "<ipython-input-90-53e5b9d271f7>:19: RuntimeWarning: invalid value encountered in multiply\n",
      "  cost = -1 / num_train * np.sum(y * np.log(a) + (1 - y) * np.log(1 - a))\n"
     ]
    },
    {
     "output_type": "display_data",
     "data": {
      "text/plain": [
       "<Figure size 432x288 with 1 Axes>"
      ],
      "image/png": "[encoded data removed]"
     },
     "metadata": {
      "needs_background": "light"
     }
    }
   ],
   "metadata": {}
  },
  {
   "cell_type": "code",
   "execution_count": null,
   "source": [],
   "outputs": [],
   "metadata": {}
  }
 ],
 "metadata": {
  "orig_nbformat": 4,
  "language_info": {
   "name": "python",
   "version": "3.8.5",
   "mimetype": "text/x-python",
   "codemirror_mode": {
    "name": "ipython",
    "version": 3
   },
   "pygments_lexer": "ipython3",
   "nbconvert_exporter": "python",
   "file_extension": ".py"
  },
  "kernelspec": {
   "name": "python3",
   "display_name": "Python 3.8.5 64-bit ('base': conda)"
  },
  "interpreter": {
   "hash": "b4760074067732e81c03fa2f3451350d5e78e45f688639748e9cab7f332de886"
  }
 },
 "nbformat": 4,
 "nbformat_minor": 2
}