{
 "cells": [
  {
   "cell_type": "markdown",
   "source": [
    "# Домашняя работа \"Оценка точности модели, переобучение, регуляризация\""
   ],
   "metadata": {}
  },
  {
   "cell_type": "markdown",
   "source": [
    "### Задание:\r\n",
    "<ol>\r\n",
    "    <li>Посчитать tpr и fpr в ноутбуке к лекции. (true и false positive rate)</li>\r\n",
    "    <li>Убедиться, что график ROC AUC получается таким же, как и штатными средствами.</li>\r\n",
    "    <li>Построить график Precision - Recall на этих же данных.</li>\r\n",
    "</ol>\r\n",
    "В задании необходимо убедиться, что график roc auc построенный руками и встроенной функцией sklearn совпадают. То есть, необходимо руками повторить алгоритм roc auc"
   ],
   "metadata": {}
  },
  {
   "cell_type": "code",
   "execution_count": 53,
   "source": [
    "import pandas as pd\r\n",
    "import numpy as np\r\n",
    "from sklearn.linear_model import LogisticRegression\r\n",
    "from sklearn.model_selection import train_test_split\r\n",
    "from sklearn import metrics\r\n",
    "import matplotlib.pyplot as plt\r\n"
   ],
   "outputs": [],
   "metadata": {}
  },
  {
   "cell_type": "code",
   "execution_count": 54,
   "source": [
    "data = pd.read_csv('data/affair_data.csv')\r\n",
    "data.head()\r\n"
   ],
   "outputs": [
    {
     "output_type": "execute_result",
     "data": {
      "text/plain": [
       "   rate_marriage   age  yrs_married  children  religious  educ  occupation  \\\n",
       "0            3.0  32.0          9.0       3.0        3.0  17.0         2.0   \n",
       "1            3.0  27.0         13.0       3.0        1.0  14.0         3.0   \n",
       "2            4.0  22.0          2.5       0.0        1.0  16.0         3.0   \n",
       "3            4.0  37.0         16.5       4.0        3.0  16.0         5.0   \n",
       "4            5.0  27.0          9.0       1.0        1.0  14.0         3.0   \n",
       "\n",
       "   occupation_husb  affair  \n",
       "0              5.0       1  \n",
       "1              4.0       1  \n",
       "2              5.0       1  \n",
       "3              5.0       1  \n",
       "4              4.0       1  "
      ],
      "text/html": [
       "<div>\n",
       "<style scoped>\n",
       "    .dataframe tbody tr th:only-of-type {\n",
       "        vertical-align: middle;\n",
       "    }\n",
       "\n",
       "    .dataframe tbody tr th {\n",
       "        vertical-align: top;\n",
       "    }\n",
       "\n",
       "    .dataframe thead th {\n",
       "        text-align: right;\n",
       "    }\n",
       "</style>\n",
       "<table border=\"1\" class=\"dataframe\">\n",
       "  <thead>\n",
       "    <tr style=\"text-align: right;\">\n",
       "      <th></th>\n",
       "      <th>rate_marriage</th>\n",
       "      <th>age</th>\n",
       "      <th>yrs_married</th>\n",
       "      <th>children</th>\n",
       "      <th>religious</th>\n",
       "      <th>educ</th>\n",
       "      <th>occupation</th>\n",
       "      <th>occupation_husb</th>\n",
       "      <th>affair</th>\n",
       "    </tr>\n",
       "  </thead>\n",
       "  <tbody>\n",
       "    <tr>\n",
       "      <th>0</th>\n",
       "      <td>3.0</td>\n",
       "      <td>32.0</td>\n",
       "      <td>9.0</td>\n",
       "      <td>3.0</td>\n",
       "      <td>3.0</td>\n",
       "      <td>17.0</td>\n",
       "      <td>2.0</td>\n",
       "      <td>5.0</td>\n",
       "      <td>1</td>\n",
       "    </tr>\n",
       "    <tr>\n",
       "      <th>1</th>\n",
       "      <td>3.0</td>\n",
       "      <td>27.0</td>\n",
       "      <td>13.0</td>\n",
       "      <td>3.0</td>\n",
       "      <td>1.0</td>\n",
       "      <td>14.0</td>\n",
       "      <td>3.0</td>\n",
       "      <td>4.0</td>\n",
       "      <td>1</td>\n",
       "    </tr>\n",
       "    <tr>\n",
       "      <th>2</th>\n",
       "      <td>4.0</td>\n",
       "      <td>22.0</td>\n",
       "      <td>2.5</td>\n",
       "      <td>0.0</td>\n",
       "      <td>1.0</td>\n",
       "      <td>16.0</td>\n",
       "      <td>3.0</td>\n",
       "      <td>5.0</td>\n",
       "      <td>1</td>\n",
       "    </tr>\n",
       "    <tr>\n",
       "      <th>3</th>\n",
       "      <td>4.0</td>\n",
       "      <td>37.0</td>\n",
       "      <td>16.5</td>\n",
       "      <td>4.0</td>\n",
       "      <td>3.0</td>\n",
       "      <td>16.0</td>\n",
       "      <td>5.0</td>\n",
       "      <td>5.0</td>\n",
       "      <td>1</td>\n",
       "    </tr>\n",
       "    <tr>\n",
       "      <th>4</th>\n",
       "      <td>5.0</td>\n",
       "      <td>27.0</td>\n",
       "      <td>9.0</td>\n",
       "      <td>1.0</td>\n",
       "      <td>1.0</td>\n",
       "      <td>14.0</td>\n",
       "      <td>3.0</td>\n",
       "      <td>4.0</td>\n",
       "      <td>1</td>\n",
       "    </tr>\n",
       "  </tbody>\n",
       "</table>\n",
       "</div>"
      ]
     },
     "metadata": {},
     "execution_count": 54
    }
   ],
   "metadata": {}
  },
  {
   "cell_type": "code",
   "execution_count": 55,
   "source": [
    "X = data[data.columns[:-1]]\r\n",
    "X.head(2)\r\n"
   ],
   "outputs": [
    {
     "output_type": "execute_result",
     "data": {
      "text/plain": [
       "   rate_marriage   age  yrs_married  children  religious  educ  occupation  \\\n",
       "0            3.0  32.0          9.0       3.0        3.0  17.0         2.0   \n",
       "1            3.0  27.0         13.0       3.0        1.0  14.0         3.0   \n",
       "\n",
       "   occupation_husb  \n",
       "0              5.0  \n",
       "1              4.0  "
      ],
      "text/html": [
       "<div>\n",
       "<style scoped>\n",
       "    .dataframe tbody tr th:only-of-type {\n",
       "        vertical-align: middle;\n",
       "    }\n",
       "\n",
       "    .dataframe tbody tr th {\n",
       "        vertical-align: top;\n",
       "    }\n",
       "\n",
       "    .dataframe thead th {\n",
       "        text-align: right;\n",
       "    }\n",
       "</style>\n",
       "<table border=\"1\" class=\"dataframe\">\n",
       "  <thead>\n",
       "    <tr style=\"text-align: right;\">\n",
       "      <th></th>\n",
       "      <th>rate_marriage</th>\n",
       "      <th>age</th>\n",
       "      <th>yrs_married</th>\n",
       "      <th>children</th>\n",
       "      <th>religious</th>\n",
       "      <th>educ</th>\n",
       "      <th>occupation</th>\n",
       "      <th>occupation_husb</th>\n",
       "    </tr>\n",
       "  </thead>\n",
       "  <tbody>\n",
       "    <tr>\n",
       "      <th>0</th>\n",
       "      <td>3.0</td>\n",
       "      <td>32.0</td>\n",
       "      <td>9.0</td>\n",
       "      <td>3.0</td>\n",
       "      <td>3.0</td>\n",
       "      <td>17.0</td>\n",
       "      <td>2.0</td>\n",
       "      <td>5.0</td>\n",
       "    </tr>\n",
       "    <tr>\n",
       "      <th>1</th>\n",
       "      <td>3.0</td>\n",
       "      <td>27.0</td>\n",
       "      <td>13.0</td>\n",
       "      <td>3.0</td>\n",
       "      <td>1.0</td>\n",
       "      <td>14.0</td>\n",
       "      <td>3.0</td>\n",
       "      <td>4.0</td>\n",
       "    </tr>\n",
       "  </tbody>\n",
       "</table>\n",
       "</div>"
      ]
     },
     "metadata": {},
     "execution_count": 55
    }
   ],
   "metadata": {}
  },
  {
   "cell_type": "code",
   "execution_count": 56,
   "source": [
    "Y = data['affair']\r\n"
   ],
   "outputs": [],
   "metadata": {}
  },
  {
   "cell_type": "code",
   "execution_count": 57,
   "source": [
    "model = LogisticRegression()\r\n"
   ],
   "outputs": [],
   "metadata": {}
  },
  {
   "cell_type": "code",
   "execution_count": 58,
   "source": [
    "X_train, X_test, Y_train, Y_test = train_test_split(\r\n",
    "    X, Y, test_size=0.3, random_state=0)\r\n"
   ],
   "outputs": [],
   "metadata": {}
  },
  {
   "cell_type": "code",
   "execution_count": 59,
   "source": [
    "model.fit(X_train, Y_train)\r\n"
   ],
   "outputs": [
    {
     "output_type": "execute_result",
     "data": {
      "text/plain": [
       "LogisticRegression()"
      ]
     },
     "metadata": {},
     "execution_count": 59
    }
   ],
   "metadata": {}
  },
  {
   "cell_type": "code",
   "execution_count": 60,
   "source": [
    "predictions = model.predict_proba(X_test)\r\n",
    "predictions\r\n"
   ],
   "outputs": [
    {
     "output_type": "execute_result",
     "data": {
      "text/plain": [
       "array([[0.37442487, 0.62557513],\n",
       "       [0.92523133, 0.07476867],\n",
       "       [0.68436963, 0.31563037],\n",
       "       ...,\n",
       "       [0.54059867, 0.45940133],\n",
       "       [0.79790213, 0.20209787],\n",
       "       [0.77284695, 0.22715305]])"
      ]
     },
     "metadata": {},
     "execution_count": 60
    }
   ],
   "metadata": {}
  },
  {
   "cell_type": "code",
   "execution_count": 61,
   "source": [
    "model.score(X_test, Y_test)\r\n"
   ],
   "outputs": [
    {
     "output_type": "execute_result",
     "data": {
      "text/plain": [
       "0.7319371727748691"
      ]
     },
     "metadata": {},
     "execution_count": 61
    }
   ],
   "metadata": {}
  },
  {
   "cell_type": "code",
   "execution_count": 62,
   "source": [
    "def roc_curve(y, prob):\r\n",
    "\r\n",
    "    tpr_list = []\r\n",
    "    fpr_list = []\r\n",
    "    threshold = np.linspace(1.1, 0, 100)\r\n",
    "\r\n",
    "    for t in threshold:\r\n",
    "        y_pred = np.zeros(y.shape[0])\r\n",
    "        y_pred[prob >= t] = 1\r\n",
    "\r\n",
    "        TN = y_pred[(y_pred == y) & (y == 0)].shape[0]\r\n",
    "        TP = y_pred[(y_pred == y) & (y == 1)].shape[0]\r\n",
    "        FP = y_pred[(y_pred != y) & (y == 0)].shape[0]\r\n",
    "        FN = y_pred[(y_pred != y) & (y == 1)].shape[0]\r\n",
    "\r\n",
    "        TPR = TP / (TP + FN)\r\n",
    "        FPR = FP / (FP + TN)\r\n",
    "\r\n",
    "        tpr_list.append(TPR)\r\n",
    "        fpr_list.append(FPR)\r\n",
    "        \r\n",
    "    return fpr_list, tpr_list, threshold\r\n"
   ],
   "outputs": [],
   "metadata": {}
  },
  {
   "cell_type": "code",
   "execution_count": 63,
   "source": [
    "# manual calculation\r\n",
    "FPR, TPR, threshold = roc_curve(Y_test, predictions[:, 1])\r\n"
   ],
   "outputs": [],
   "metadata": {}
  },
  {
   "cell_type": "code",
   "execution_count": 64,
   "source": [
    "# calculation using by sklearn\r\n",
    "fpr, tpr, thres = metrics.roc_curve(Y_test, predictions[:, 1])\r\n"
   ],
   "outputs": [],
   "metadata": {}
  },
  {
   "cell_type": "code",
   "execution_count": 65,
   "source": [
    "plt.plot(fpr, tpr, label='By sklearn') \r\n",
    "plt.plot(FPR, TPR, label='Manual')\r\n",
    "\r\n",
    "plt.xlabel('False Positive Rate')\r\n",
    "plt.ylabel('True Positive Rate')\r\n",
    "\r\n",
    "plt.legend(loc=0)\r\n",
    "plt.title('ROC curve sklearn vs manually')\r\n"
   ],
   "outputs": [
    {
     "output_type": "execute_result",
     "data": {
      "text/plain": [
       "Text(0.5, 1.0, 'ROC curve sklearn vs manually')"
      ]
     },
     "metadata": {},
     "execution_count": 65
    },
    {
     "output_type": "display_data",
     "data": {
      "text/plain": [
       "<Figure size 432x288 with 1 Axes>"
      ],
      "image/svg+xml": "<?xml version=\"1.0\" encoding=\"utf-8\" standalone=\"no\"?>\r\n<!DOCTYPE svg PUBLIC \"-//W3C//DTD SVG 1.1//EN\"\r\n  \"http://www.w3.org/Graphics/SVG/1.1/DTD/svg11.dtd\">\r\n<svg height=\"277.314375pt\" version=\"1.1\" viewBox=\"0 0 385.78125 277.314375\" width=\"385.78125pt\" xmlns=\"http://www.w3.org/2000/svg\" xmlns:xlink=\"http://www.w3.org/1999/xlink\">\r\n <metadata>\r\n  <rdf:RDF xmlns:cc=\"http://creativecommons.org/ns#\" xmlns:dc=\"http://purl.org/dc/elements/1.1/\" xmlns:rdf=\"http://www.w3.org/1999/02/22-rdf-syntax-ns#\">\r\n   <cc:Work>\r\n    <dc:type rdf:resource=\"http://purl.org/dc/dcmitype/StillImage\"/>\r\n    <dc:date>2021-08-11T01:40:18.124584</dc:date>\r\n    <dc:format>image/svg+xml</dc:format>\r\n    <dc:creator>\r\n     <cc:Agent>\r\n      <dc:title>Matplotlib v3.4.1, https://matplotlib.org/</dc:title>\r\n     </cc:Agent>\r\n    </dc:creator>\r\n   </cc:Work>\r\n  </rdf:RDF>\r\n </metadata>\r\n <defs>\r\n  <style type=\"text/css\">*{stroke-linecap:butt;stroke-linejoin:round;}</style>\r\n </defs>\r\n <g id=\"figure_1\">\r\n  <g id=\"patch_1\">\r\n   <path d=\"M 0 277.314375 \r\nL 385.78125 277.314375 \r\nL 385.78125 0 \r\nL 0 0 \r\nz\r\n\" style=\"fill:none;\"/>\r\n  </g>\r\n  <g id=\"axes_1\">\r\n   <g id=\"patch_2\">\r\n    <path d=\"M 43.78125 239.758125 \r\nL 378.58125 239.758125 \r\nL 378.58125 22.318125 \r\nL 43.78125 22.318125 \r\nz\r\n\" style=\"fill:#ffffff;\"/>\r\n   </g>\r\n   <g id=\"matplotlib.axis_1\">\r\n    <g id=\"xtick_1\">\r\n     <g id=\"line2d_1\">\r\n      <defs>\r\n       <path d=\"M 0 0 \r\nL 0 3.5 \r\n\" id=\"mbb733d2126\" style=\"stroke:#000000;stroke-width:0.8;\"/>\r\n      </defs>\r\n      <g>\r\n       <use style=\"stroke:#000000;stroke-width:0.8;\" x=\"58.999432\" xlink:href=\"#mbb733d2126\" y=\"239.758125\"/>\r\n      </g>\r\n     </g>\r\n     <g id=\"text_1\">\r\n      <!-- 0.0 -->\r\n      <g transform=\"translate(51.047869 254.356562)scale(0.1 -0.1)\">\r\n       <defs>\r\n        <path d=\"M 2034 4250 \r\nQ 1547 4250 1301 3770 \r\nQ 1056 3291 1056 2328 \r\nQ 1056 1369 1301 889 \r\nQ 1547 409 2034 409 \r\nQ 2525 409 2770 889 \r\nQ 3016 1369 3016 2328 \r\nQ 3016 3291 2770 3770 \r\nQ 2525 4250 2034 4250 \r\nz\r\nM 2034 4750 \r\nQ 2819 4750 3233 4129 \r\nQ 3647 3509 3647 2328 \r\nQ 3647 1150 3233 529 \r\nQ 2819 -91 2034 -91 \r\nQ 1250 -91 836 529 \r\nQ 422 1150 422 2328 \r\nQ 422 3509 836 4129 \r\nQ 1250 4750 2034 4750 \r\nz\r\n\" id=\"DejaVuSans-30\" transform=\"scale(0.015625)\"/>\r\n        <path d=\"M 684 794 \r\nL 1344 794 \r\nL 1344 0 \r\nL 684 0 \r\nL 684 794 \r\nz\r\n\" id=\"DejaVuSans-2e\" transform=\"scale(0.015625)\"/>\r\n       </defs>\r\n       <use xlink:href=\"#DejaVuSans-30\"/>\r\n       <use x=\"63.623047\" xlink:href=\"#DejaVuSans-2e\"/>\r\n       <use x=\"95.410156\" xlink:href=\"#DejaVuSans-30\"/>\r\n      </g>\r\n     </g>\r\n    </g>\r\n    <g id=\"xtick_2\">\r\n     <g id=\"line2d_2\">\r\n      <g>\r\n       <use style=\"stroke:#000000;stroke-width:0.8;\" x=\"119.872159\" xlink:href=\"#mbb733d2126\" y=\"239.758125\"/>\r\n      </g>\r\n     </g>\r\n     <g id=\"text_2\">\r\n      <!-- 0.2 -->\r\n      <g transform=\"translate(111.920597 254.356562)scale(0.1 -0.1)\">\r\n       <defs>\r\n        <path d=\"M 1228 531 \r\nL 3431 531 \r\nL 3431 0 \r\nL 469 0 \r\nL 469 531 \r\nQ 828 903 1448 1529 \r\nQ 2069 2156 2228 2338 \r\nQ 2531 2678 2651 2914 \r\nQ 2772 3150 2772 3378 \r\nQ 2772 3750 2511 3984 \r\nQ 2250 4219 1831 4219 \r\nQ 1534 4219 1204 4116 \r\nQ 875 4013 500 3803 \r\nL 500 4441 \r\nQ 881 4594 1212 4672 \r\nQ 1544 4750 1819 4750 \r\nQ 2544 4750 2975 4387 \r\nQ 3406 4025 3406 3419 \r\nQ 3406 3131 3298 2873 \r\nQ 3191 2616 2906 2266 \r\nQ 2828 2175 2409 1742 \r\nQ 1991 1309 1228 531 \r\nz\r\n\" id=\"DejaVuSans-32\" transform=\"scale(0.015625)\"/>\r\n       </defs>\r\n       <use xlink:href=\"#DejaVuSans-30\"/>\r\n       <use x=\"63.623047\" xlink:href=\"#DejaVuSans-2e\"/>\r\n       <use x=\"95.410156\" xlink:href=\"#DejaVuSans-32\"/>\r\n      </g>\r\n     </g>\r\n    </g>\r\n    <g id=\"xtick_3\">\r\n     <g id=\"line2d_3\">\r\n      <g>\r\n       <use style=\"stroke:#000000;stroke-width:0.8;\" x=\"180.744886\" xlink:href=\"#mbb733d2126\" y=\"239.758125\"/>\r\n      </g>\r\n     </g>\r\n     <g id=\"text_3\">\r\n      <!-- 0.4 -->\r\n      <g transform=\"translate(172.793324 254.356562)scale(0.1 -0.1)\">\r\n       <defs>\r\n        <path d=\"M 2419 4116 \r\nL 825 1625 \r\nL 2419 1625 \r\nL 2419 4116 \r\nz\r\nM 2253 4666 \r\nL 3047 4666 \r\nL 3047 1625 \r\nL 3713 1625 \r\nL 3713 1100 \r\nL 3047 1100 \r\nL 3047 0 \r\nL 2419 0 \r\nL 2419 1100 \r\nL 313 1100 \r\nL 313 1709 \r\nL 2253 4666 \r\nz\r\n\" id=\"DejaVuSans-34\" transform=\"scale(0.015625)\"/>\r\n       </defs>\r\n       <use xlink:href=\"#DejaVuSans-30\"/>\r\n       <use x=\"63.623047\" xlink:href=\"#DejaVuSans-2e\"/>\r\n       <use x=\"95.410156\" xlink:href=\"#DejaVuSans-34\"/>\r\n      </g>\r\n     </g>\r\n    </g>\r\n    <g id=\"xtick_4\">\r\n     <g id=\"line2d_4\">\r\n      <g>\r\n       <use style=\"stroke:#000000;stroke-width:0.8;\" x=\"241.617614\" xlink:href=\"#mbb733d2126\" y=\"239.758125\"/>\r\n      </g>\r\n     </g>\r\n     <g id=\"text_4\">\r\n      <!-- 0.6 -->\r\n      <g transform=\"translate(233.666051 254.356562)scale(0.1 -0.1)\">\r\n       <defs>\r\n        <path d=\"M 2113 2584 \r\nQ 1688 2584 1439 2293 \r\nQ 1191 2003 1191 1497 \r\nQ 1191 994 1439 701 \r\nQ 1688 409 2113 409 \r\nQ 2538 409 2786 701 \r\nQ 3034 994 3034 1497 \r\nQ 3034 2003 2786 2293 \r\nQ 2538 2584 2113 2584 \r\nz\r\nM 3366 4563 \r\nL 3366 3988 \r\nQ 3128 4100 2886 4159 \r\nQ 2644 4219 2406 4219 \r\nQ 1781 4219 1451 3797 \r\nQ 1122 3375 1075 2522 \r\nQ 1259 2794 1537 2939 \r\nQ 1816 3084 2150 3084 \r\nQ 2853 3084 3261 2657 \r\nQ 3669 2231 3669 1497 \r\nQ 3669 778 3244 343 \r\nQ 2819 -91 2113 -91 \r\nQ 1303 -91 875 529 \r\nQ 447 1150 447 2328 \r\nQ 447 3434 972 4092 \r\nQ 1497 4750 2381 4750 \r\nQ 2619 4750 2861 4703 \r\nQ 3103 4656 3366 4563 \r\nz\r\n\" id=\"DejaVuSans-36\" transform=\"scale(0.015625)\"/>\r\n       </defs>\r\n       <use xlink:href=\"#DejaVuSans-30\"/>\r\n       <use x=\"63.623047\" xlink:href=\"#DejaVuSans-2e\"/>\r\n       <use x=\"95.410156\" xlink:href=\"#DejaVuSans-36\"/>\r\n      </g>\r\n     </g>\r\n    </g>\r\n    <g id=\"xtick_5\">\r\n     <g id=\"line2d_5\">\r\n      <g>\r\n       <use style=\"stroke:#000000;stroke-width:0.8;\" x=\"302.490341\" xlink:href=\"#mbb733d2126\" y=\"239.758125\"/>\r\n      </g>\r\n     </g>\r\n     <g id=\"text_5\">\r\n      <!-- 0.8 -->\r\n      <g transform=\"translate(294.538778 254.356562)scale(0.1 -0.1)\">\r\n       <defs>\r\n        <path d=\"M 2034 2216 \r\nQ 1584 2216 1326 1975 \r\nQ 1069 1734 1069 1313 \r\nQ 1069 891 1326 650 \r\nQ 1584 409 2034 409 \r\nQ 2484 409 2743 651 \r\nQ 3003 894 3003 1313 \r\nQ 3003 1734 2745 1975 \r\nQ 2488 2216 2034 2216 \r\nz\r\nM 1403 2484 \r\nQ 997 2584 770 2862 \r\nQ 544 3141 544 3541 \r\nQ 544 4100 942 4425 \r\nQ 1341 4750 2034 4750 \r\nQ 2731 4750 3128 4425 \r\nQ 3525 4100 3525 3541 \r\nQ 3525 3141 3298 2862 \r\nQ 3072 2584 2669 2484 \r\nQ 3125 2378 3379 2068 \r\nQ 3634 1759 3634 1313 \r\nQ 3634 634 3220 271 \r\nQ 2806 -91 2034 -91 \r\nQ 1263 -91 848 271 \r\nQ 434 634 434 1313 \r\nQ 434 1759 690 2068 \r\nQ 947 2378 1403 2484 \r\nz\r\nM 1172 3481 \r\nQ 1172 3119 1398 2916 \r\nQ 1625 2713 2034 2713 \r\nQ 2441 2713 2670 2916 \r\nQ 2900 3119 2900 3481 \r\nQ 2900 3844 2670 4047 \r\nQ 2441 4250 2034 4250 \r\nQ 1625 4250 1398 4047 \r\nQ 1172 3844 1172 3481 \r\nz\r\n\" id=\"DejaVuSans-38\" transform=\"scale(0.015625)\"/>\r\n       </defs>\r\n       <use xlink:href=\"#DejaVuSans-30\"/>\r\n       <use x=\"63.623047\" xlink:href=\"#DejaVuSans-2e\"/>\r\n       <use x=\"95.410156\" xlink:href=\"#DejaVuSans-38\"/>\r\n      </g>\r\n     </g>\r\n    </g>\r\n    <g id=\"xtick_6\">\r\n     <g id=\"line2d_6\">\r\n      <g>\r\n       <use style=\"stroke:#000000;stroke-width:0.8;\" x=\"363.363068\" xlink:href=\"#mbb733d2126\" y=\"239.758125\"/>\r\n      </g>\r\n     </g>\r\n     <g id=\"text_6\">\r\n      <!-- 1.0 -->\r\n      <g transform=\"translate(355.411506 254.356562)scale(0.1 -0.1)\">\r\n       <defs>\r\n        <path d=\"M 794 531 \r\nL 1825 531 \r\nL 1825 4091 \r\nL 703 3866 \r\nL 703 4441 \r\nL 1819 4666 \r\nL 2450 4666 \r\nL 2450 531 \r\nL 3481 531 \r\nL 3481 0 \r\nL 794 0 \r\nL 794 531 \r\nz\r\n\" id=\"DejaVuSans-31\" transform=\"scale(0.015625)\"/>\r\n       </defs>\r\n       <use xlink:href=\"#DejaVuSans-31\"/>\r\n       <use x=\"63.623047\" xlink:href=\"#DejaVuSans-2e\"/>\r\n       <use x=\"95.410156\" xlink:href=\"#DejaVuSans-30\"/>\r\n      </g>\r\n     </g>\r\n    </g>\r\n    <g id=\"text_7\">\r\n     <!-- False Positive Rate -->\r\n     <g transform=\"translate(164.714844 268.034687)scale(0.1 -0.1)\">\r\n      <defs>\r\n       <path d=\"M 628 4666 \r\nL 3309 4666 \r\nL 3309 4134 \r\nL 1259 4134 \r\nL 1259 2759 \r\nL 3109 2759 \r\nL 3109 2228 \r\nL 1259 2228 \r\nL 1259 0 \r\nL 628 0 \r\nL 628 4666 \r\nz\r\n\" id=\"DejaVuSans-46\" transform=\"scale(0.015625)\"/>\r\n       <path d=\"M 2194 1759 \r\nQ 1497 1759 1228 1600 \r\nQ 959 1441 959 1056 \r\nQ 959 750 1161 570 \r\nQ 1363 391 1709 391 \r\nQ 2188 391 2477 730 \r\nQ 2766 1069 2766 1631 \r\nL 2766 1759 \r\nL 2194 1759 \r\nz\r\nM 3341 1997 \r\nL 3341 0 \r\nL 2766 0 \r\nL 2766 531 \r\nQ 2569 213 2275 61 \r\nQ 1981 -91 1556 -91 \r\nQ 1019 -91 701 211 \r\nQ 384 513 384 1019 \r\nQ 384 1609 779 1909 \r\nQ 1175 2209 1959 2209 \r\nL 2766 2209 \r\nL 2766 2266 \r\nQ 2766 2663 2505 2880 \r\nQ 2244 3097 1772 3097 \r\nQ 1472 3097 1187 3025 \r\nQ 903 2953 641 2809 \r\nL 641 3341 \r\nQ 956 3463 1253 3523 \r\nQ 1550 3584 1831 3584 \r\nQ 2591 3584 2966 3190 \r\nQ 3341 2797 3341 1997 \r\nz\r\n\" id=\"DejaVuSans-61\" transform=\"scale(0.015625)\"/>\r\n       <path d=\"M 603 4863 \r\nL 1178 4863 \r\nL 1178 0 \r\nL 603 0 \r\nL 603 4863 \r\nz\r\n\" id=\"DejaVuSans-6c\" transform=\"scale(0.015625)\"/>\r\n       <path d=\"M 2834 3397 \r\nL 2834 2853 \r\nQ 2591 2978 2328 3040 \r\nQ 2066 3103 1784 3103 \r\nQ 1356 3103 1142 2972 \r\nQ 928 2841 928 2578 \r\nQ 928 2378 1081 2264 \r\nQ 1234 2150 1697 2047 \r\nL 1894 2003 \r\nQ 2506 1872 2764 1633 \r\nQ 3022 1394 3022 966 \r\nQ 3022 478 2636 193 \r\nQ 2250 -91 1575 -91 \r\nQ 1294 -91 989 -36 \r\nQ 684 19 347 128 \r\nL 347 722 \r\nQ 666 556 975 473 \r\nQ 1284 391 1588 391 \r\nQ 1994 391 2212 530 \r\nQ 2431 669 2431 922 \r\nQ 2431 1156 2273 1281 \r\nQ 2116 1406 1581 1522 \r\nL 1381 1569 \r\nQ 847 1681 609 1914 \r\nQ 372 2147 372 2553 \r\nQ 372 3047 722 3315 \r\nQ 1072 3584 1716 3584 \r\nQ 2034 3584 2315 3537 \r\nQ 2597 3491 2834 3397 \r\nz\r\n\" id=\"DejaVuSans-73\" transform=\"scale(0.015625)\"/>\r\n       <path d=\"M 3597 1894 \r\nL 3597 1613 \r\nL 953 1613 \r\nQ 991 1019 1311 708 \r\nQ 1631 397 2203 397 \r\nQ 2534 397 2845 478 \r\nQ 3156 559 3463 722 \r\nL 3463 178 \r\nQ 3153 47 2828 -22 \r\nQ 2503 -91 2169 -91 \r\nQ 1331 -91 842 396 \r\nQ 353 884 353 1716 \r\nQ 353 2575 817 3079 \r\nQ 1281 3584 2069 3584 \r\nQ 2775 3584 3186 3129 \r\nQ 3597 2675 3597 1894 \r\nz\r\nM 3022 2063 \r\nQ 3016 2534 2758 2815 \r\nQ 2500 3097 2075 3097 \r\nQ 1594 3097 1305 2825 \r\nQ 1016 2553 972 2059 \r\nL 3022 2063 \r\nz\r\n\" id=\"DejaVuSans-65\" transform=\"scale(0.015625)\"/>\r\n       <path id=\"DejaVuSans-20\" transform=\"scale(0.015625)\"/>\r\n       <path d=\"M 1259 4147 \r\nL 1259 2394 \r\nL 2053 2394 \r\nQ 2494 2394 2734 2622 \r\nQ 2975 2850 2975 3272 \r\nQ 2975 3691 2734 3919 \r\nQ 2494 4147 2053 4147 \r\nL 1259 4147 \r\nz\r\nM 628 4666 \r\nL 2053 4666 \r\nQ 2838 4666 3239 4311 \r\nQ 3641 3956 3641 3272 \r\nQ 3641 2581 3239 2228 \r\nQ 2838 1875 2053 1875 \r\nL 1259 1875 \r\nL 1259 0 \r\nL 628 0 \r\nL 628 4666 \r\nz\r\n\" id=\"DejaVuSans-50\" transform=\"scale(0.015625)\"/>\r\n       <path d=\"M 1959 3097 \r\nQ 1497 3097 1228 2736 \r\nQ 959 2375 959 1747 \r\nQ 959 1119 1226 758 \r\nQ 1494 397 1959 397 \r\nQ 2419 397 2687 759 \r\nQ 2956 1122 2956 1747 \r\nQ 2956 2369 2687 2733 \r\nQ 2419 3097 1959 3097 \r\nz\r\nM 1959 3584 \r\nQ 2709 3584 3137 3096 \r\nQ 3566 2609 3566 1747 \r\nQ 3566 888 3137 398 \r\nQ 2709 -91 1959 -91 \r\nQ 1206 -91 779 398 \r\nQ 353 888 353 1747 \r\nQ 353 2609 779 3096 \r\nQ 1206 3584 1959 3584 \r\nz\r\n\" id=\"DejaVuSans-6f\" transform=\"scale(0.015625)\"/>\r\n       <path d=\"M 603 3500 \r\nL 1178 3500 \r\nL 1178 0 \r\nL 603 0 \r\nL 603 3500 \r\nz\r\nM 603 4863 \r\nL 1178 4863 \r\nL 1178 4134 \r\nL 603 4134 \r\nL 603 4863 \r\nz\r\n\" id=\"DejaVuSans-69\" transform=\"scale(0.015625)\"/>\r\n       <path d=\"M 1172 4494 \r\nL 1172 3500 \r\nL 2356 3500 \r\nL 2356 3053 \r\nL 1172 3053 \r\nL 1172 1153 \r\nQ 1172 725 1289 603 \r\nQ 1406 481 1766 481 \r\nL 2356 481 \r\nL 2356 0 \r\nL 1766 0 \r\nQ 1100 0 847 248 \r\nQ 594 497 594 1153 \r\nL 594 3053 \r\nL 172 3053 \r\nL 172 3500 \r\nL 594 3500 \r\nL 594 4494 \r\nL 1172 4494 \r\nz\r\n\" id=\"DejaVuSans-74\" transform=\"scale(0.015625)\"/>\r\n       <path d=\"M 191 3500 \r\nL 800 3500 \r\nL 1894 563 \r\nL 2988 3500 \r\nL 3597 3500 \r\nL 2284 0 \r\nL 1503 0 \r\nL 191 3500 \r\nz\r\n\" id=\"DejaVuSans-76\" transform=\"scale(0.015625)\"/>\r\n       <path d=\"M 2841 2188 \r\nQ 3044 2119 3236 1894 \r\nQ 3428 1669 3622 1275 \r\nL 4263 0 \r\nL 3584 0 \r\nL 2988 1197 \r\nQ 2756 1666 2539 1819 \r\nQ 2322 1972 1947 1972 \r\nL 1259 1972 \r\nL 1259 0 \r\nL 628 0 \r\nL 628 4666 \r\nL 2053 4666 \r\nQ 2853 4666 3247 4331 \r\nQ 3641 3997 3641 3322 \r\nQ 3641 2881 3436 2590 \r\nQ 3231 2300 2841 2188 \r\nz\r\nM 1259 4147 \r\nL 1259 2491 \r\nL 2053 2491 \r\nQ 2509 2491 2742 2702 \r\nQ 2975 2913 2975 3322 \r\nQ 2975 3731 2742 3939 \r\nQ 2509 4147 2053 4147 \r\nL 1259 4147 \r\nz\r\n\" id=\"DejaVuSans-52\" transform=\"scale(0.015625)\"/>\r\n      </defs>\r\n      <use xlink:href=\"#DejaVuSans-46\"/>\r\n      <use x=\"48.394531\" xlink:href=\"#DejaVuSans-61\"/>\r\n      <use x=\"109.673828\" xlink:href=\"#DejaVuSans-6c\"/>\r\n      <use x=\"137.457031\" xlink:href=\"#DejaVuSans-73\"/>\r\n      <use x=\"189.556641\" xlink:href=\"#DejaVuSans-65\"/>\r\n      <use x=\"251.080078\" xlink:href=\"#DejaVuSans-20\"/>\r\n      <use x=\"282.867188\" xlink:href=\"#DejaVuSans-50\"/>\r\n      <use x=\"339.544922\" xlink:href=\"#DejaVuSans-6f\"/>\r\n      <use x=\"400.726562\" xlink:href=\"#DejaVuSans-73\"/>\r\n      <use x=\"452.826172\" xlink:href=\"#DejaVuSans-69\"/>\r\n      <use x=\"480.609375\" xlink:href=\"#DejaVuSans-74\"/>\r\n      <use x=\"519.818359\" xlink:href=\"#DejaVuSans-69\"/>\r\n      <use x=\"547.601562\" xlink:href=\"#DejaVuSans-76\"/>\r\n      <use x=\"606.78125\" xlink:href=\"#DejaVuSans-65\"/>\r\n      <use x=\"668.304688\" xlink:href=\"#DejaVuSans-20\"/>\r\n      <use x=\"700.091797\" xlink:href=\"#DejaVuSans-52\"/>\r\n      <use x=\"767.324219\" xlink:href=\"#DejaVuSans-61\"/>\r\n      <use x=\"828.603516\" xlink:href=\"#DejaVuSans-74\"/>\r\n      <use x=\"867.8125\" xlink:href=\"#DejaVuSans-65\"/>\r\n     </g>\r\n    </g>\r\n   </g>\r\n   <g id=\"matplotlib.axis_2\">\r\n    <g id=\"ytick_1\">\r\n     <g id=\"line2d_7\">\r\n      <defs>\r\n       <path d=\"M 0 0 \r\nL -3.5 0 \r\n\" id=\"m605742dd7d\" style=\"stroke:#000000;stroke-width:0.8;\"/>\r\n      </defs>\r\n      <g>\r\n       <use style=\"stroke:#000000;stroke-width:0.8;\" x=\"43.78125\" xlink:href=\"#m605742dd7d\" y=\"229.874489\"/>\r\n      </g>\r\n     </g>\r\n     <g id=\"text_8\">\r\n      <!-- 0.0 -->\r\n      <g transform=\"translate(20.878125 233.673707)scale(0.1 -0.1)\">\r\n       <use xlink:href=\"#DejaVuSans-30\"/>\r\n       <use x=\"63.623047\" xlink:href=\"#DejaVuSans-2e\"/>\r\n       <use x=\"95.410156\" xlink:href=\"#DejaVuSans-30\"/>\r\n      </g>\r\n     </g>\r\n    </g>\r\n    <g id=\"ytick_2\">\r\n     <g id=\"line2d_8\">\r\n      <g>\r\n       <use style=\"stroke:#000000;stroke-width:0.8;\" x=\"43.78125\" xlink:href=\"#m605742dd7d\" y=\"190.339943\"/>\r\n      </g>\r\n     </g>\r\n     <g id=\"text_9\">\r\n      <!-- 0.2 -->\r\n      <g transform=\"translate(20.878125 194.139162)scale(0.1 -0.1)\">\r\n       <use xlink:href=\"#DejaVuSans-30\"/>\r\n       <use x=\"63.623047\" xlink:href=\"#DejaVuSans-2e\"/>\r\n       <use x=\"95.410156\" xlink:href=\"#DejaVuSans-32\"/>\r\n      </g>\r\n     </g>\r\n    </g>\r\n    <g id=\"ytick_3\">\r\n     <g id=\"line2d_9\">\r\n      <g>\r\n       <use style=\"stroke:#000000;stroke-width:0.8;\" x=\"43.78125\" xlink:href=\"#m605742dd7d\" y=\"150.805398\"/>\r\n      </g>\r\n     </g>\r\n     <g id=\"text_10\">\r\n      <!-- 0.4 -->\r\n      <g transform=\"translate(20.878125 154.604616)scale(0.1 -0.1)\">\r\n       <use xlink:href=\"#DejaVuSans-30\"/>\r\n       <use x=\"63.623047\" xlink:href=\"#DejaVuSans-2e\"/>\r\n       <use x=\"95.410156\" xlink:href=\"#DejaVuSans-34\"/>\r\n      </g>\r\n     </g>\r\n    </g>\r\n    <g id=\"ytick_4\">\r\n     <g id=\"line2d_10\">\r\n      <g>\r\n       <use style=\"stroke:#000000;stroke-width:0.8;\" x=\"43.78125\" xlink:href=\"#m605742dd7d\" y=\"111.270852\"/>\r\n      </g>\r\n     </g>\r\n     <g id=\"text_11\">\r\n      <!-- 0.6 -->\r\n      <g transform=\"translate(20.878125 115.070071)scale(0.1 -0.1)\">\r\n       <use xlink:href=\"#DejaVuSans-30\"/>\r\n       <use x=\"63.623047\" xlink:href=\"#DejaVuSans-2e\"/>\r\n       <use x=\"95.410156\" xlink:href=\"#DejaVuSans-36\"/>\r\n      </g>\r\n     </g>\r\n    </g>\r\n    <g id=\"ytick_5\">\r\n     <g id=\"line2d_11\">\r\n      <g>\r\n       <use style=\"stroke:#000000;stroke-width:0.8;\" x=\"43.78125\" xlink:href=\"#m605742dd7d\" y=\"71.736307\"/>\r\n      </g>\r\n     </g>\r\n     <g id=\"text_12\">\r\n      <!-- 0.8 -->\r\n      <g transform=\"translate(20.878125 75.535526)scale(0.1 -0.1)\">\r\n       <use xlink:href=\"#DejaVuSans-30\"/>\r\n       <use x=\"63.623047\" xlink:href=\"#DejaVuSans-2e\"/>\r\n       <use x=\"95.410156\" xlink:href=\"#DejaVuSans-38\"/>\r\n      </g>\r\n     </g>\r\n    </g>\r\n    <g id=\"ytick_6\">\r\n     <g id=\"line2d_12\">\r\n      <g>\r\n       <use style=\"stroke:#000000;stroke-width:0.8;\" x=\"43.78125\" xlink:href=\"#m605742dd7d\" y=\"32.201761\"/>\r\n      </g>\r\n     </g>\r\n     <g id=\"text_13\">\r\n      <!-- 1.0 -->\r\n      <g transform=\"translate(20.878125 36.00098)scale(0.1 -0.1)\">\r\n       <use xlink:href=\"#DejaVuSans-31\"/>\r\n       <use x=\"63.623047\" xlink:href=\"#DejaVuSans-2e\"/>\r\n       <use x=\"95.410156\" xlink:href=\"#DejaVuSans-30\"/>\r\n      </g>\r\n     </g>\r\n    </g>\r\n    <g id=\"text_14\">\r\n     <!-- True Positive Rate -->\r\n     <g transform=\"translate(14.798438 175.567812)rotate(-90)scale(0.1 -0.1)\">\r\n      <defs>\r\n       <path d=\"M -19 4666 \r\nL 3928 4666 \r\nL 3928 4134 \r\nL 2272 4134 \r\nL 2272 0 \r\nL 1638 0 \r\nL 1638 4134 \r\nL -19 4134 \r\nL -19 4666 \r\nz\r\n\" id=\"DejaVuSans-54\" transform=\"scale(0.015625)\"/>\r\n       <path d=\"M 2631 2963 \r\nQ 2534 3019 2420 3045 \r\nQ 2306 3072 2169 3072 \r\nQ 1681 3072 1420 2755 \r\nQ 1159 2438 1159 1844 \r\nL 1159 0 \r\nL 581 0 \r\nL 581 3500 \r\nL 1159 3500 \r\nL 1159 2956 \r\nQ 1341 3275 1631 3429 \r\nQ 1922 3584 2338 3584 \r\nQ 2397 3584 2469 3576 \r\nQ 2541 3569 2628 3553 \r\nL 2631 2963 \r\nz\r\n\" id=\"DejaVuSans-72\" transform=\"scale(0.015625)\"/>\r\n       <path d=\"M 544 1381 \r\nL 544 3500 \r\nL 1119 3500 \r\nL 1119 1403 \r\nQ 1119 906 1312 657 \r\nQ 1506 409 1894 409 \r\nQ 2359 409 2629 706 \r\nQ 2900 1003 2900 1516 \r\nL 2900 3500 \r\nL 3475 3500 \r\nL 3475 0 \r\nL 2900 0 \r\nL 2900 538 \r\nQ 2691 219 2414 64 \r\nQ 2138 -91 1772 -91 \r\nQ 1169 -91 856 284 \r\nQ 544 659 544 1381 \r\nz\r\nM 1991 3584 \r\nL 1991 3584 \r\nz\r\n\" id=\"DejaVuSans-75\" transform=\"scale(0.015625)\"/>\r\n      </defs>\r\n      <use xlink:href=\"#DejaVuSans-54\"/>\r\n      <use x=\"46.333984\" xlink:href=\"#DejaVuSans-72\"/>\r\n      <use x=\"87.447266\" xlink:href=\"#DejaVuSans-75\"/>\r\n      <use x=\"150.826172\" xlink:href=\"#DejaVuSans-65\"/>\r\n      <use x=\"212.349609\" xlink:href=\"#DejaVuSans-20\"/>\r\n      <use x=\"244.136719\" xlink:href=\"#DejaVuSans-50\"/>\r\n      <use x=\"300.814453\" xlink:href=\"#DejaVuSans-6f\"/>\r\n      <use x=\"361.996094\" xlink:href=\"#DejaVuSans-73\"/>\r\n      <use x=\"414.095703\" xlink:href=\"#DejaVuSans-69\"/>\r\n      <use x=\"441.878906\" xlink:href=\"#DejaVuSans-74\"/>\r\n      <use x=\"481.087891\" xlink:href=\"#DejaVuSans-69\"/>\r\n      <use x=\"508.871094\" xlink:href=\"#DejaVuSans-76\"/>\r\n      <use x=\"568.050781\" xlink:href=\"#DejaVuSans-65\"/>\r\n      <use x=\"629.574219\" xlink:href=\"#DejaVuSans-20\"/>\r\n      <use x=\"661.361328\" xlink:href=\"#DejaVuSans-52\"/>\r\n      <use x=\"728.59375\" xlink:href=\"#DejaVuSans-61\"/>\r\n      <use x=\"789.873047\" xlink:href=\"#DejaVuSans-74\"/>\r\n      <use x=\"829.082031\" xlink:href=\"#DejaVuSans-65\"/>\r\n     </g>\r\n    </g>\r\n   </g>\r\n   <g id=\"line2d_13\">\r\n    <path clip-path=\"url(#pc58dfeadcf)\" d=\"M 58.999432 229.874489 \r\nL 58.999432 228.246212 \r\nL 59.233019 228.246212 \r\nL 59.233019 225.966626 \r\nL 59.933779 225.966626 \r\nL 59.933779 225.315315 \r\nL 60.167366 225.315315 \r\nL 60.167366 223.687039 \r\nL 60.400953 223.687039 \r\nL 60.400953 222.384418 \r\nL 60.63454 222.384418 \r\nL 60.63454 221.733108 \r\nL 60.868126 221.733108 \r\nL 60.868126 220.104832 \r\nL 61.101713 220.104832 \r\nL 61.101713 218.476555 \r\nL 61.3353 218.476555 \r\nL 61.3353 216.848279 \r\nL 61.568887 216.848279 \r\nL 61.568887 216.196969 \r\nL 61.802474 216.196969 \r\nL 61.802474 215.545658 \r\nL 62.036061 215.545658 \r\nL 62.036061 215.220003 \r\nL 62.503234 215.220003 \r\nL 62.503234 214.894348 \r\nL 62.736821 214.894348 \r\nL 62.736821 212.289106 \r\nL 63.203995 212.289106 \r\nL 63.203995 210.986485 \r\nL 63.437582 210.986485 \r\nL 63.437582 210.009519 \r\nL 63.671168 210.009519 \r\nL 63.671168 207.404277 \r\nL 64.138342 207.404277 \r\nL 64.138342 207.078622 \r\nL 64.371929 207.078622 \r\nL 64.371929 206.752967 \r\nL 64.839103 206.752967 \r\nL 64.839103 204.799036 \r\nL 65.072689 204.799036 \r\nL 65.072689 203.496415 \r\nL 65.306276 203.496415 \r\nL 65.306276 202.519449 \r\nL 65.539863 202.519449 \r\nL 65.539863 202.193794 \r\nL 65.77345 202.193794 \r\nL 65.77345 201.868138 \r\nL 66.007037 201.868138 \r\nL 66.007037 201.216828 \r\nL 66.240623 201.216828 \r\nL 66.240623 200.891173 \r\nL 66.47421 200.891173 \r\nL 66.47421 200.239862 \r\nL 67.174971 200.239862 \r\nL 67.174971 199.588552 \r\nL 67.875731 199.588552 \r\nL 67.875731 198.937241 \r\nL 68.109318 198.937241 \r\nL 68.109318 197.308965 \r\nL 68.342905 197.308965 \r\nL 68.342905 196.98331 \r\nL 69.043665 196.98331 \r\nL 69.043665 195.355034 \r\nL 69.277252 195.355034 \r\nL 69.277252 194.378068 \r\nL 69.744426 194.378068 \r\nL 69.744426 192.749792 \r\nL 70.2116 192.749792 \r\nL 70.2116 192.098481 \r\nL 70.445186 191.772826 \r\nL 70.678773 191.772826 \r\nL 70.678773 190.795861 \r\nL 70.91236 190.795861 \r\nL 70.91236 189.818895 \r\nL 71.145947 189.818895 \r\nL 71.145947 188.841929 \r\nL 71.613121 188.841929 \r\nL 71.613121 188.516274 \r\nL 72.313881 188.516274 \r\nL 72.313881 188.190619 \r\nL 72.547468 188.190619 \r\nL 72.547468 185.911032 \r\nL 72.781055 185.585377 \r\nL 72.781055 185.259722 \r\nL 73.014641 185.259722 \r\nL 73.014641 183.30579 \r\nL 73.481815 183.30579 \r\nL 73.481815 182.003169 \r\nL 73.715402 182.003169 \r\nL 73.715402 181.677514 \r\nL 73.948989 181.677514 \r\nL 73.948989 181.351859 \r\nL 74.182576 181.351859 \r\nL 74.182576 181.026203 \r\nL 74.883336 181.026203 \r\nL 74.883336 179.723583 \r\nL 75.35051 179.723583 \r\nL 75.35051 179.397927 \r\nL 75.584097 179.397927 \r\nL 75.584097 178.420962 \r\nL 75.817683 178.095306 \r\nL 76.752031 178.095306 \r\nL 76.752031 177.443996 \r\nL 76.985618 177.443996 \r\nL 76.985618 177.118341 \r\nL 77.219204 177.118341 \r\nL 77.219204 175.81572 \r\nL 77.686378 175.81572 \r\nL 77.686378 175.164409 \r\nL 78.153552 175.164409 \r\nL 78.153552 174.187444 \r\nL 78.620725 174.187444 \r\nL 78.620725 173.861788 \r\nL 78.854312 173.861788 \r\nL 78.854312 173.536133 \r\nL 79.087899 173.536133 \r\nL 79.087899 173.210478 \r\nL 80.255833 173.210478 \r\nL 80.255833 172.559167 \r\nL 80.48942 172.559167 \r\nL 80.48942 171.256546 \r\nL 80.723007 171.256546 \r\nL 80.723007 170.605236 \r\nL 80.956594 170.605236 \r\nL 80.956594 169.62827 \r\nL 81.19018 169.62827 \r\nL 81.19018 169.302615 \r\nL 81.423767 169.302615 \r\nL 81.657354 168.97696 \r\nL 82.124528 168.97696 \r\nL 82.124528 167.999994 \r\nL 82.591701 167.999994 \r\nL 82.591701 167.674339 \r\nL 83.058875 167.674339 \r\nL 83.058875 165.720407 \r\nL 83.292462 165.720407 \r\nL 83.292462 165.394752 \r\nL 83.526049 165.394752 \r\nL 83.759636 165.069097 \r\nL 83.759636 164.743442 \r\nL 84.226809 164.743442 \r\nL 84.226809 163.766476 \r\nL 85.161157 163.766476 \r\nL 85.62833 163.440821 \r\nL 85.62833 163.115166 \r\nL 86.095504 163.115166 \r\nL 86.095504 162.78951 \r\nL 86.796264 162.78951 \r\nL 86.796264 162.463855 \r\nL 87.029851 162.463855 \r\nL 87.029851 160.509924 \r\nL 87.263438 160.509924 \r\nL 87.263438 159.858613 \r\nL 89.132133 159.858613 \r\nL 89.132133 159.532958 \r\nL 89.365719 159.532958 \r\nL 89.365719 156.602061 \r\nL 89.599306 156.602061 \r\nL 89.599306 156.276406 \r\nL 90.533654 156.276406 \r\nL 90.533654 155.95075 \r\nL 90.76724 155.95075 \r\nL 90.76724 155.625095 \r\nL 91.000827 155.625095 \r\nL 91.000827 154.973785 \r\nL 91.468001 154.973785 \r\nL 91.468001 154.648129 \r\nL 92.635935 154.648129 \r\nL 92.635935 153.996819 \r\nL 93.336695 153.996819 \r\nL 93.336695 153.345509 \r\nL 93.803869 153.345509 \r\nL 93.803869 153.019853 \r\nL 94.50463 153.019853 \r\nL 94.50463 152.042888 \r\nL 94.738216 152.042888 \r\nL 94.738216 151.717232 \r\nL 95.438977 151.717232 \r\nL 95.438977 151.391577 \r\nL 96.373324 151.391577 \r\nL 96.373324 151.065922 \r\nL 97.541258 151.065922 \r\nL 97.541258 150.740267 \r\nL 98.008432 150.740267 \r\nL 98.008432 150.414611 \r\nL 99.409953 150.414611 \r\nL 99.409953 149.763301 \r\nL 99.64354 149.763301 \r\nL 99.64354 149.437646 \r\nL 100.110713 149.437646 \r\nL 100.3443 148.46068 \r\nL 100.811474 148.46068 \r\nL 100.811474 148.135025 \r\nL 101.278648 148.135025 \r\nL 101.512234 147.80937 \r\nL 101.745821 147.80937 \r\nL 101.745821 145.529783 \r\nL 102.212995 145.529783 \r\nL 102.212995 144.552817 \r\nL 102.446582 144.552817 \r\nL 102.446582 144.227162 \r\nL 102.913755 144.227162 \r\nL 102.913755 143.901507 \r\nL 103.147342 143.575852 \r\nL 103.380929 143.575852 \r\nL 103.380929 143.250196 \r\nL 104.08169 143.250196 \r\nL 104.08169 142.273231 \r\nL 104.548863 142.273231 \r\nL 104.548863 141.947575 \r\nL 104.78245 141.947575 \r\nL 104.78245 141.62192 \r\nL 105.016037 141.62192 \r\nL 105.016037 140.97061 \r\nL 105.716797 140.97061 \r\nL 105.716797 139.667989 \r\nL 106.651145 139.667989 \r\nL 106.651145 138.691023 \r\nL 107.351905 138.691023 \r\nL 107.351905 137.714057 \r\nL 107.819079 137.714057 \r\nL 107.819079 137.388402 \r\nL 108.286252 137.388402 \r\nL 108.286252 136.737092 \r\nL 108.987013 136.737092 \r\nL 108.987013 136.085781 \r\nL 109.454187 136.085781 \r\nL 109.454187 135.760126 \r\nL 109.687773 135.760126 \r\nL 109.687773 135.108815 \r\nL 110.154947 135.108815 \r\nL 110.154947 134.457505 \r\nL 110.388534 134.457505 \r\nL 110.388534 133.806194 \r\nL 110.622121 133.480539 \r\nL 110.622121 133.154884 \r\nL 110.855708 133.154884 \r\nL 110.855708 132.829229 \r\nL 111.322881 132.829229 \r\nL 111.556468 132.503574 \r\nL 111.556468 132.177918 \r\nL 112.023642 132.177918 \r\nL 112.023642 131.526608 \r\nL 112.957989 131.526608 \r\nL 112.957989 131.200953 \r\nL 113.191576 131.200953 \r\nL 113.191576 130.875297 \r\nL 113.425163 130.875297 \r\nL 113.425163 130.549642 \r\nL 113.892336 130.549642 \r\nL 113.892336 129.898332 \r\nL 114.125923 129.898332 \r\nL 114.125923 129.572676 \r\nL 114.593097 129.572676 \r\nL 114.593097 128.921366 \r\nL 115.06027 128.921366 \r\nL 115.06027 127.29309 \r\nL 115.527444 127.29309 \r\nL 115.527444 126.967435 \r\nL 115.761031 126.967435 \r\nL 115.761031 126.641779 \r\nL 117.162552 126.641779 \r\nL 117.396139 126.316124 \r\nL 118.096899 126.316124 \r\nL 118.096899 125.990469 \r\nL 118.564073 125.339158 \r\nL 119.732007 125.339158 \r\nL 119.732007 125.013503 \r\nL 119.965594 125.013503 \r\nL 119.965594 124.687848 \r\nL 120.432767 124.687848 \r\nL 120.432767 124.362193 \r\nL 120.666354 124.362193 \r\nL 120.899941 124.036537 \r\nL 120.899941 123.385227 \r\nL 121.600702 123.385227 \r\nL 121.600702 123.059572 \r\nL 123.235809 123.059572 \r\nL 123.235809 122.733917 \r\nL 123.469396 122.733917 \r\nL 123.469396 122.408261 \r\nL 123.702983 122.408261 \r\nL 123.702983 121.756951 \r\nL 124.403744 121.756951 \r\nL 124.403744 121.431296 \r\nL 124.870917 121.431296 \r\nL 124.870917 121.10564 \r\nL 125.104504 121.10564 \r\nL 125.104504 120.45433 \r\nL 126.038851 120.45433 \r\nL 126.038851 120.128675 \r\nL 126.272438 120.128675 \r\nL 126.272438 119.803019 \r\nL 126.506025 119.803019 \r\nL 126.739612 119.477364 \r\nL 126.739612 119.151709 \r\nL 127.440372 119.151709 \r\nL 127.440372 118.826054 \r\nL 128.141133 118.826054 \r\nL 128.141133 118.500398 \r\nL 128.37472 118.500398 \r\nL 128.37472 118.174743 \r\nL 129.07548 118.174743 \r\nL 129.07548 117.523433 \r\nL 129.309067 117.523433 \r\nL 129.309067 117.197778 \r\nL 129.542654 117.197778 \r\nL 129.542654 115.569501 \r\nL 131.177762 115.569501 \r\nL 131.177762 115.243846 \r\nL 131.411348 114.918191 \r\nL 131.878522 114.918191 \r\nL 131.878522 114.26688 \r\nL 132.345696 114.26688 \r\nL 132.345696 113.941225 \r\nL 132.812869 113.941225 \r\nL 132.812869 113.289915 \r\nL 133.51363 113.289915 \r\nL 133.51363 112.964259 \r\nL 133.747217 112.964259 \r\nL 134.21439 112.638604 \r\nL 134.447977 112.638604 \r\nL 134.447977 112.312949 \r\nL 135.148738 112.312949 \r\nL 135.148738 111.987294 \r\nL 135.615911 111.987294 \r\nL 135.615911 110.684673 \r\nL 136.783845 110.684673 \r\nL 136.783845 110.359018 \r\nL 137.251019 110.359018 \r\nL 137.251019 110.033362 \r\nL 137.484606 110.033362 \r\nL 137.484606 109.382052 \r\nL 137.95178 109.382052 \r\nL 137.95178 108.730741 \r\nL 138.185366 108.730741 \r\nL 138.185366 107.753776 \r\nL 138.65254 107.753776 \r\nL 138.65254 107.428121 \r\nL 138.886127 107.428121 \r\nL 138.886127 107.102465 \r\nL 139.586887 107.102465 \r\nL 139.586887 106.77681 \r\nL 140.054061 106.77681 \r\nL 140.054061 106.451155 \r\nL 140.521235 106.1255 \r\nL 141.455582 106.1255 \r\nL 141.455582 105.799844 \r\nL 142.156342 105.799844 \r\nL 142.156342 105.474189 \r\nL 143.09069 105.474189 \r\nL 143.09069 105.148534 \r\nL 144.025037 105.148534 \r\nL 144.025037 104.497223 \r\nL 144.492211 104.497223 \r\nL 144.492211 104.171568 \r\nL 145.893732 104.171568 \r\nL 145.893732 102.868947 \r\nL 146.127319 102.868947 \r\nL 146.127319 102.543292 \r\nL 146.360905 102.543292 \r\nL 146.360905 102.217637 \r\nL 146.828079 102.217637 \r\nL 146.828079 101.891982 \r\nL 147.528839 101.891982 \r\nL 147.528839 101.566326 \r\nL 147.762426 101.566326 \r\nL 147.762426 100.915016 \r\nL 148.696774 100.915016 \r\nL 148.696774 100.589361 \r\nL 148.93036 100.589361 \r\nL 148.93036 100.263705 \r\nL 149.163947 100.263705 \r\nL 149.163947 99.28674 \r\nL 150.565468 99.28674 \r\nL 150.565468 98.961084 \r\nL 151.032642 98.961084 \r\nL 151.032642 98.635429 \r\nL 151.966989 98.635429 \r\nL 151.966989 98.309774 \r\nL 152.200576 97.658463 \r\nL 152.66775 97.658463 \r\nL 152.66775 97.332808 \r\nL 153.602097 97.332808 \r\nL 153.602097 96.355843 \r\nL 154.536444 96.355843 \r\nL 154.536444 95.704532 \r\nL 155.470792 95.704532 \r\nL 155.470792 94.727566 \r\nL 155.704378 94.727566 \r\nL 155.704378 94.401911 \r\nL 156.171552 94.076256 \r\nL 156.638726 94.076256 \r\nL 156.638726 93.424945 \r\nL 157.105899 93.424945 \r\nL 157.105899 93.09929 \r\nL 157.573073 93.09929 \r\nL 157.573073 92.122324 \r\nL 160.376115 92.122324 \r\nL 160.376115 91.796669 \r\nL 161.310462 91.471014 \r\nL 162.478396 91.471014 \r\nL 162.478396 91.145359 \r\nL 162.711983 91.145359 \r\nL 162.711983 90.494048 \r\nL 162.94557 90.494048 \r\nL 162.94557 90.168393 \r\nL 163.646331 90.168393 \r\nL 163.646331 89.842738 \r\nL 163.879917 89.842738 \r\nL 163.879917 89.517083 \r\nL 165.047852 89.517083 \r\nL 165.047852 89.191427 \r\nL 165.982199 89.191427 \r\nL 165.982199 88.865772 \r\nL 166.916546 88.865772 \r\nL 166.916546 87.888806 \r\nL 168.08448 87.888806 \r\nL 168.08448 86.911841 \r\nL 168.318067 86.911841 \r\nL 168.318067 86.586186 \r\nL 168.551654 86.586186 \r\nL 168.551654 86.26053 \r\nL 169.018828 86.26053 \r\nL 169.018828 85.934875 \r\nL 169.252414 85.934875 \r\nL 169.252414 85.60922 \r\nL 170.186762 85.60922 \r\nL 170.420349 85.283565 \r\nL 171.588283 85.283565 \r\nL 171.588283 84.957909 \r\nL 171.82187 84.957909 \r\nL 171.82187 84.632254 \r\nL 172.756217 84.306599 \r\nL 172.756217 83.980944 \r\nL 172.989804 83.980944 \r\nL 172.989804 83.655288 \r\nL 173.456977 83.655288 \r\nL 173.456977 83.329633 \r\nL 174.391325 83.329633 \r\nL 174.391325 82.027012 \r\nL 177.895127 82.027012 \r\nL 177.895127 81.701357 \r\nL 179.063061 81.701357 \r\nL 179.063061 81.375702 \r\nL 179.296648 81.375702 \r\nL 179.296648 80.398736 \r\nL 180.464582 80.398736 \r\nL 180.464582 80.073081 \r\nL 181.165343 80.073081 \r\nL 181.398929 79.747426 \r\nL 182.09969 79.747426 \r\nL 182.09969 79.42177 \r\nL 182.566864 79.42177 \r\nL 182.566864 78.444805 \r\nL 182.80045 78.444805 \r\nL 183.734798 78.119149 \r\nL 183.734798 77.142184 \r\nL 184.201971 77.142184 \r\nL 184.201971 76.490873 \r\nL 184.435558 76.490873 \r\nL 184.435558 76.165218 \r\nL 184.902732 76.165218 \r\nL 184.902732 75.839563 \r\nL 187.2386 75.839563 \r\nL 187.2386 75.188252 \r\nL 187.939361 75.188252 \r\nL 187.939361 74.536942 \r\nL 188.172947 74.536942 \r\nL 188.172947 73.234321 \r\nL 189.574468 73.234321 \r\nL 189.574468 72.908666 \r\nL 191.67675 72.908666 \r\nL 191.67675 72.58301 \r\nL 192.143924 72.58301 \r\nL 192.143924 72.257355 \r\nL 192.611097 72.257355 \r\nL 192.611097 71.9317 \r\nL 193.311858 71.9317 \r\nL 193.311858 71.606045 \r\nL 193.545445 71.606045 \r\nL 193.545445 71.280389 \r\nL 194.713379 71.280389 \r\nL 194.946965 70.954734 \r\nL 195.180552 70.954734 \r\nL 195.180552 70.629079 \r\nL 196.1149 70.629079 \r\nL 196.582073 70.303424 \r\nL 197.049247 70.303424 \r\nL 197.049247 69.977769 \r\nL 197.516421 69.977769 \r\nL 197.516421 69.652113 \r\nL 198.450768 69.652113 \r\nL 198.450768 69.326458 \r\nL 199.618702 69.326458 \r\nL 199.618702 69.000803 \r\nL 202.188157 69.000803 \r\nL 202.188157 68.675148 \r\nL 202.655331 68.675148 \r\nL 202.655331 68.349492 \r\nL 205.458373 68.349492 \r\nL 205.458373 68.023837 \r\nL 205.69196 68.023837 \r\nL 205.69196 67.698182 \r\nL 205.925546 67.698182 \r\nL 205.925546 67.372527 \r\nL 206.39272 67.372527 \r\nL 206.626307 67.046871 \r\nL 206.626307 66.721216 \r\nL 209.195762 66.721216 \r\nL 209.195762 66.395561 \r\nL 209.896522 66.395561 \r\nL 210.597283 66.069906 \r\nL 210.597283 65.744251 \r\nL 211.53163 65.744251 \r\nL 211.53163 65.418595 \r\nL 212.933151 65.418595 \r\nL 212.933151 64.767285 \r\nL 214.568259 64.767285 \r\nL 214.568259 64.44163 \r\nL 215.269019 64.44163 \r\nL 215.269019 64.115974 \r\nL 215.96978 64.115974 \r\nL 215.96978 63.790319 \r\nL 216.203367 63.790319 \r\nL 216.203367 63.139009 \r\nL 216.436954 63.139009 \r\nL 216.436954 62.813353 \r\nL 217.371301 62.813353 \r\nL 217.371301 62.162043 \r\nL 217.838475 62.162043 \r\nL 217.838475 61.836388 \r\nL 219.707169 61.836388 \r\nL 219.707169 61.185077 \r\nL 219.940756 60.859422 \r\nL 219.940756 60.533767 \r\nL 221.10869 60.533767 \r\nL 221.10869 60.208112 \r\nL 226.481187 60.208112 \r\nL 226.481187 59.882456 \r\nL 227.181948 59.882456 \r\nL 227.181948 59.556801 \r\nL 227.649121 59.556801 \r\nL 228.583469 59.231146 \r\nL 232.320858 59.231146 \r\nL 232.788032 58.905491 \r\nL 234.189553 58.905491 \r\nL 234.189553 58.579835 \r\nL 236.759008 58.579835 \r\nL 236.759008 58.25418 \r\nL 237.693355 58.25418 \r\nL 237.693355 57.928525 \r\nL 239.328463 57.928525 \r\nL 239.328463 57.60287 \r\nL 239.56205 57.60287 \r\nL 239.56205 57.277214 \r\nL 240.496397 57.277214 \r\nL 240.496397 56.625904 \r\nL 242.832265 56.625904 \r\nL 242.832265 56.300249 \r\nL 243.065852 56.300249 \r\nL 243.065852 55.974593 \r\nL 243.299439 55.974593 \r\nL 243.299439 55.648938 \r\nL 244.000199 55.648938 \r\nL 244.000199 54.997628 \r\nL 246.336068 54.997628 \r\nL 246.336068 54.671973 \r\nL 246.569654 54.671973 \r\nL 246.569654 54.020662 \r\nL 247.270415 54.020662 \r\nL 247.270415 53.695007 \r\nL 247.504002 53.695007 \r\nL 247.504002 53.043696 \r\nL 248.438349 53.043696 \r\nL 248.438349 52.392386 \r\nL 251.474978 52.392386 \r\nL 251.474978 51.741075 \r\nL 254.97878 51.741075 \r\nL 254.97878 51.41542 \r\nL 257.081062 51.41542 \r\nL 257.781822 51.089765 \r\nL 259.183343 51.089765 \r\nL 259.183343 50.76411 \r\nL 259.650517 50.76411 \r\nL 259.650517 50.438454 \r\nL 259.884104 50.438454 \r\nL 259.884104 50.112799 \r\nL 260.584864 50.112799 \r\nL 260.584864 49.787144 \r\nL 261.052038 49.787144 \r\nL 261.052038 49.461489 \r\nL 261.986385 49.461489 \r\nL 261.986385 49.135834 \r\nL 262.219972 48.810178 \r\nL 262.687145 48.810178 \r\nL 262.920732 48.484523 \r\nL 264.088666 48.484523 \r\nL 264.088666 48.158868 \r\nL 264.55584 48.158868 \r\nL 264.55584 47.833213 \r\nL 266.190948 47.833213 \r\nL 266.190948 47.507557 \r\nL 270.862684 47.507557 \r\nL 270.862684 47.181902 \r\nL 271.797032 47.181902 \r\nL 271.797032 46.856247 \r\nL 272.497792 46.856247 \r\nL 272.497792 46.530592 \r\nL 273.198553 46.530592 \r\nL 273.43214 46.204936 \r\nL 273.899313 46.204936 \r\nL 273.899313 45.879281 \r\nL 277.403116 45.879281 \r\nL 277.403116 45.227971 \r\nL 279.038223 45.227971 \r\nL 279.038223 44.902316 \r\nL 279.738984 44.902316 \r\nL 279.972571 44.57666 \r\nL 281.374092 44.57666 \r\nL 282.074852 44.251005 \r\nL 282.074852 43.92535 \r\nL 284.41072 43.92535 \r\nL 284.41072 43.599695 \r\nL 287.447349 43.599695 \r\nL 287.447349 43.274039 \r\nL 289.316044 43.274039 \r\nL 289.549631 42.948384 \r\nL 295.622888 42.948384 \r\nL 295.622888 42.622729 \r\nL 296.790822 42.622729 \r\nL 296.790822 42.297074 \r\nL 299.827451 42.297074 \r\nL 299.827451 41.971418 \r\nL 304.032014 41.971418 \r\nL 304.032014 41.645763 \r\nL 305.433535 41.645763 \r\nL 305.433535 41.320108 \r\nL 306.134295 41.320108 \r\nL 306.134295 40.994453 \r\nL 306.835056 40.994453 \r\nL 306.835056 40.668797 \r\nL 308.470164 40.668797 \r\nL 308.703751 40.343142 \r\nL 308.703751 40.017487 \r\nL 309.404511 40.017487 \r\nL 309.404511 39.691832 \r\nL 309.871685 39.691832 \r\nL 310.338858 39.366177 \r\nL 311.273206 39.366177 \r\nL 311.273206 39.040521 \r\nL 313.609074 39.040521 \r\nL 313.609074 38.063556 \r\nL 314.777008 38.063556 \r\nL 314.777008 37.7379 \r\nL 315.477769 37.7379 \r\nL 315.477769 37.412245 \r\nL 315.944942 37.412245 \r\nL 315.944942 37.08659 \r\nL 319.448745 37.08659 \r\nL 319.915918 36.760935 \r\nL 320.149505 36.760935 \r\nL 320.149505 36.435279 \r\nL 320.383092 36.435279 \r\nL 320.383092 36.109624 \r\nL 321.083852 36.109624 \r\nL 321.317439 35.783969 \r\nL 327.390697 35.783969 \r\nL 327.390697 35.458314 \r\nL 327.85787 35.458314 \r\nL 327.85787 35.132658 \r\nL 329.025805 35.132658 \r\nL 329.025805 34.807003 \r\nL 333.230367 34.807003 \r\nL 333.463954 34.481348 \r\nL 337.43493 34.481348 \r\nL 337.43493 34.155693 \r\nL 343.508188 34.155693 \r\nL 343.508188 33.830038 \r\nL 344.676122 33.830038 \r\nL 344.676122 33.504382 \r\nL 351.45014 33.504382 \r\nL 351.683727 33.178727 \r\nL 353.786008 33.178727 \r\nL 353.786008 32.853072 \r\nL 354.019595 32.853072 \r\nL 354.019595 32.527417 \r\nL 355.654703 32.527417 \r\nL 355.654703 32.201761 \r\nL 363.363068 32.201761 \r\nL 363.363068 32.201761 \r\n\" style=\"fill:none;stroke:#1f77b4;stroke-linecap:square;stroke-width:1.5;\"/>\r\n   </g>\r\n   <g id=\"line2d_14\">\r\n    <path clip-path=\"url(#pc58dfeadcf)\" d=\"M 58.999432 229.874489 \r\nL 58.999432 229.874489 \r\nL 58.999432 229.874489 \r\nL 58.999432 229.874489 \r\nL 58.999432 229.874489 \r\nL 58.999432 229.874489 \r\nL 58.999432 229.874489 \r\nL 58.999432 229.874489 \r\nL 58.999432 229.874489 \r\nL 58.999432 229.874489 \r\nL 58.999432 229.874489 \r\nL 58.999432 229.874489 \r\nL 58.999432 229.874489 \r\nL 58.999432 229.874489 \r\nL 58.999432 229.874489 \r\nL 58.999432 229.874489 \r\nL 58.999432 229.548833 \r\nL 58.999432 229.548833 \r\nL 58.999432 228.571868 \r\nL 59.233019 228.246212 \r\nL 59.233019 227.594902 \r\nL 59.233019 226.292281 \r\nL 59.700192 225.966626 \r\nL 60.167366 224.33835 \r\nL 60.400953 223.687039 \r\nL 60.63454 222.384418 \r\nL 60.868126 221.081797 \r\nL 61.101713 219.127866 \r\nL 61.3353 218.1509 \r\nL 61.3353 216.848279 \r\nL 61.802474 215.545658 \r\nL 62.736821 213.591727 \r\nL 63.203995 211.31214 \r\nL 63.671168 209.683864 \r\nL 63.671168 207.729933 \r\nL 64.839103 205.450346 \r\nL 65.539863 202.193794 \r\nL 66.240623 200.891173 \r\nL 67.875731 199.588552 \r\nL 68.109318 197.308965 \r\nL 69.043665 196.006344 \r\nL 69.744426 194.378068 \r\nL 70.91236 189.818895 \r\nL 72.313881 188.516274 \r\nL 73.014641 185.259722 \r\nL 73.481815 182.980135 \r\nL 74.883336 181.026203 \r\nL 76.985618 177.118341 \r\nL 77.919965 175.164409 \r\nL 80.255833 172.884823 \r\nL 82.124528 168.651305 \r\nL 83.292462 165.394752 \r\nL 86.329091 162.78951 \r\nL 87.964198 159.858613 \r\nL 89.599306 156.276406 \r\nL 93.336695 153.996819 \r\nL 96.139737 151.391577 \r\nL 99.64354 149.437646 \r\nL 102.913755 144.227162 \r\nL 106.651145 139.342333 \r\nL 108.286252 137.062747 \r\nL 112.023642 131.852263 \r\nL 115.06027 128.595711 \r\nL 118.564073 125.339158 \r\nL 122.768636 123.059572 \r\nL 126.038851 120.128675 \r\nL 131.411348 114.918191 \r\nL 137.484606 110.033362 \r\nL 142.156342 105.799844 \r\nL 146.360905 102.543292 \r\nL 150.565468 99.28674 \r\nL 155.470792 94.727566 \r\nL 162.478396 91.471014 \r\nL 169.719588 85.60922 \r\nL 179.063061 81.701357 \r\nL 187.005013 75.839563 \r\nL 192.37751 72.257355 \r\nL 200.085876 69.000803 \r\nL 209.896522 66.395561 \r\nL 219.707169 61.185077 \r\nL 231.386511 59.231146 \r\nL 243.299439 55.974593 \r\nL 251.474978 51.741075 \r\nL 264.088666 48.158868 \r\nL 274.366487 45.879281 \r\nL 285.111481 43.599695 \r\nL 294.688541 42.948384 \r\nL 305.667122 41.320108 \r\nL 316.645703 37.08659 \r\nL 329.960152 34.807003 \r\nL 337.43493 34.481348 \r\nL 347.479164 33.504382 \r\nL 355.421116 32.527417 \r\nL 359.859266 32.201761 \r\nL 362.195134 32.201761 \r\nL 363.363068 32.201761 \r\nL 363.363068 32.201761 \r\nL 363.363068 32.201761 \r\nL 363.363068 32.201761 \r\nL 363.363068 32.201761 \r\n\" style=\"fill:none;stroke:#ff7f0e;stroke-linecap:square;stroke-width:1.5;\"/>\r\n   </g>\r\n   <g id=\"patch_3\">\r\n    <path d=\"M 43.78125 239.758125 \r\nL 43.78125 22.318125 \r\n\" style=\"fill:none;stroke:#000000;stroke-linecap:square;stroke-linejoin:miter;stroke-width:0.8;\"/>\r\n   </g>\r\n   <g id=\"patch_4\">\r\n    <path d=\"M 378.58125 239.758125 \r\nL 378.58125 22.318125 \r\n\" style=\"fill:none;stroke:#000000;stroke-linecap:square;stroke-linejoin:miter;stroke-width:0.8;\"/>\r\n   </g>\r\n   <g id=\"patch_5\">\r\n    <path d=\"M 43.78125 239.758125 \r\nL 378.58125 239.758125 \r\n\" style=\"fill:none;stroke:#000000;stroke-linecap:square;stroke-linejoin:miter;stroke-width:0.8;\"/>\r\n   </g>\r\n   <g id=\"patch_6\">\r\n    <path d=\"M 43.78125 22.318125 \r\nL 378.58125 22.318125 \r\n\" style=\"fill:none;stroke:#000000;stroke-linecap:square;stroke-linejoin:miter;stroke-width:0.8;\"/>\r\n   </g>\r\n   <g id=\"text_15\">\r\n    <!-- ROC curve sklearn vs manually -->\r\n    <g transform=\"translate(117.495938 16.318125)scale(0.12 -0.12)\">\r\n     <defs>\r\n      <path d=\"M 2522 4238 \r\nQ 1834 4238 1429 3725 \r\nQ 1025 3213 1025 2328 \r\nQ 1025 1447 1429 934 \r\nQ 1834 422 2522 422 \r\nQ 3209 422 3611 934 \r\nQ 4013 1447 4013 2328 \r\nQ 4013 3213 3611 3725 \r\nQ 3209 4238 2522 4238 \r\nz\r\nM 2522 4750 \r\nQ 3503 4750 4090 4092 \r\nQ 4678 3434 4678 2328 \r\nQ 4678 1225 4090 567 \r\nQ 3503 -91 2522 -91 \r\nQ 1538 -91 948 565 \r\nQ 359 1222 359 2328 \r\nQ 359 3434 948 4092 \r\nQ 1538 4750 2522 4750 \r\nz\r\n\" id=\"DejaVuSans-4f\" transform=\"scale(0.015625)\"/>\r\n      <path d=\"M 4122 4306 \r\nL 4122 3641 \r\nQ 3803 3938 3442 4084 \r\nQ 3081 4231 2675 4231 \r\nQ 1875 4231 1450 3742 \r\nQ 1025 3253 1025 2328 \r\nQ 1025 1406 1450 917 \r\nQ 1875 428 2675 428 \r\nQ 3081 428 3442 575 \r\nQ 3803 722 4122 1019 \r\nL 4122 359 \r\nQ 3791 134 3420 21 \r\nQ 3050 -91 2638 -91 \r\nQ 1578 -91 968 557 \r\nQ 359 1206 359 2328 \r\nQ 359 3453 968 4101 \r\nQ 1578 4750 2638 4750 \r\nQ 3056 4750 3426 4639 \r\nQ 3797 4528 4122 4306 \r\nz\r\n\" id=\"DejaVuSans-43\" transform=\"scale(0.015625)\"/>\r\n      <path d=\"M 3122 3366 \r\nL 3122 2828 \r\nQ 2878 2963 2633 3030 \r\nQ 2388 3097 2138 3097 \r\nQ 1578 3097 1268 2742 \r\nQ 959 2388 959 1747 \r\nQ 959 1106 1268 751 \r\nQ 1578 397 2138 397 \r\nQ 2388 397 2633 464 \r\nQ 2878 531 3122 666 \r\nL 3122 134 \r\nQ 2881 22 2623 -34 \r\nQ 2366 -91 2075 -91 \r\nQ 1284 -91 818 406 \r\nQ 353 903 353 1747 \r\nQ 353 2603 823 3093 \r\nQ 1294 3584 2113 3584 \r\nQ 2378 3584 2631 3529 \r\nQ 2884 3475 3122 3366 \r\nz\r\n\" id=\"DejaVuSans-63\" transform=\"scale(0.015625)\"/>\r\n      <path d=\"M 581 4863 \r\nL 1159 4863 \r\nL 1159 1991 \r\nL 2875 3500 \r\nL 3609 3500 \r\nL 1753 1863 \r\nL 3688 0 \r\nL 2938 0 \r\nL 1159 1709 \r\nL 1159 0 \r\nL 581 0 \r\nL 581 4863 \r\nz\r\n\" id=\"DejaVuSans-6b\" transform=\"scale(0.015625)\"/>\r\n      <path d=\"M 3513 2113 \r\nL 3513 0 \r\nL 2938 0 \r\nL 2938 2094 \r\nQ 2938 2591 2744 2837 \r\nQ 2550 3084 2163 3084 \r\nQ 1697 3084 1428 2787 \r\nQ 1159 2491 1159 1978 \r\nL 1159 0 \r\nL 581 0 \r\nL 581 3500 \r\nL 1159 3500 \r\nL 1159 2956 \r\nQ 1366 3272 1645 3428 \r\nQ 1925 3584 2291 3584 \r\nQ 2894 3584 3203 3211 \r\nQ 3513 2838 3513 2113 \r\nz\r\n\" id=\"DejaVuSans-6e\" transform=\"scale(0.015625)\"/>\r\n      <path d=\"M 3328 2828 \r\nQ 3544 3216 3844 3400 \r\nQ 4144 3584 4550 3584 \r\nQ 5097 3584 5394 3201 \r\nQ 5691 2819 5691 2113 \r\nL 5691 0 \r\nL 5113 0 \r\nL 5113 2094 \r\nQ 5113 2597 4934 2840 \r\nQ 4756 3084 4391 3084 \r\nQ 3944 3084 3684 2787 \r\nQ 3425 2491 3425 1978 \r\nL 3425 0 \r\nL 2847 0 \r\nL 2847 2094 \r\nQ 2847 2600 2669 2842 \r\nQ 2491 3084 2119 3084 \r\nQ 1678 3084 1418 2786 \r\nQ 1159 2488 1159 1978 \r\nL 1159 0 \r\nL 581 0 \r\nL 581 3500 \r\nL 1159 3500 \r\nL 1159 2956 \r\nQ 1356 3278 1631 3431 \r\nQ 1906 3584 2284 3584 \r\nQ 2666 3584 2933 3390 \r\nQ 3200 3197 3328 2828 \r\nz\r\n\" id=\"DejaVuSans-6d\" transform=\"scale(0.015625)\"/>\r\n      <path d=\"M 2059 -325 \r\nQ 1816 -950 1584 -1140 \r\nQ 1353 -1331 966 -1331 \r\nL 506 -1331 \r\nL 506 -850 \r\nL 844 -850 \r\nQ 1081 -850 1212 -737 \r\nQ 1344 -625 1503 -206 \r\nL 1606 56 \r\nL 191 3500 \r\nL 800 3500 \r\nL 1894 763 \r\nL 2988 3500 \r\nL 3597 3500 \r\nL 2059 -325 \r\nz\r\n\" id=\"DejaVuSans-79\" transform=\"scale(0.015625)\"/>\r\n     </defs>\r\n     <use xlink:href=\"#DejaVuSans-52\"/>\r\n     <use x=\"69.482422\" xlink:href=\"#DejaVuSans-4f\"/>\r\n     <use x=\"148.193359\" xlink:href=\"#DejaVuSans-43\"/>\r\n     <use x=\"218.017578\" xlink:href=\"#DejaVuSans-20\"/>\r\n     <use x=\"249.804688\" xlink:href=\"#DejaVuSans-63\"/>\r\n     <use x=\"304.785156\" xlink:href=\"#DejaVuSans-75\"/>\r\n     <use x=\"368.164062\" xlink:href=\"#DejaVuSans-72\"/>\r\n     <use x=\"409.277344\" xlink:href=\"#DejaVuSans-76\"/>\r\n     <use x=\"468.457031\" xlink:href=\"#DejaVuSans-65\"/>\r\n     <use x=\"529.980469\" xlink:href=\"#DejaVuSans-20\"/>\r\n     <use x=\"561.767578\" xlink:href=\"#DejaVuSans-73\"/>\r\n     <use x=\"613.867188\" xlink:href=\"#DejaVuSans-6b\"/>\r\n     <use x=\"671.777344\" xlink:href=\"#DejaVuSans-6c\"/>\r\n     <use x=\"699.560547\" xlink:href=\"#DejaVuSans-65\"/>\r\n     <use x=\"761.083984\" xlink:href=\"#DejaVuSans-61\"/>\r\n     <use x=\"822.363281\" xlink:href=\"#DejaVuSans-72\"/>\r\n     <use x=\"861.726562\" xlink:href=\"#DejaVuSans-6e\"/>\r\n     <use x=\"925.105469\" xlink:href=\"#DejaVuSans-20\"/>\r\n     <use x=\"956.892578\" xlink:href=\"#DejaVuSans-76\"/>\r\n     <use x=\"1016.072266\" xlink:href=\"#DejaVuSans-73\"/>\r\n     <use x=\"1068.171875\" xlink:href=\"#DejaVuSans-20\"/>\r\n     <use x=\"1099.958984\" xlink:href=\"#DejaVuSans-6d\"/>\r\n     <use x=\"1197.371094\" xlink:href=\"#DejaVuSans-61\"/>\r\n     <use x=\"1258.650391\" xlink:href=\"#DejaVuSans-6e\"/>\r\n     <use x=\"1322.029297\" xlink:href=\"#DejaVuSans-75\"/>\r\n     <use x=\"1385.408203\" xlink:href=\"#DejaVuSans-61\"/>\r\n     <use x=\"1446.6875\" xlink:href=\"#DejaVuSans-6c\"/>\r\n     <use x=\"1474.470703\" xlink:href=\"#DejaVuSans-6c\"/>\r\n     <use x=\"1502.253906\" xlink:href=\"#DejaVuSans-79\"/>\r\n    </g>\r\n   </g>\r\n   <g id=\"legend_1\">\r\n    <g id=\"patch_7\">\r\n     <path d=\"M 50.78125 59.674375 \r\nL 135.071875 59.674375 \r\nQ 137.071875 59.674375 137.071875 57.674375 \r\nL 137.071875 29.318125 \r\nQ 137.071875 27.318125 135.071875 27.318125 \r\nL 50.78125 27.318125 \r\nQ 48.78125 27.318125 48.78125 29.318125 \r\nL 48.78125 57.674375 \r\nQ 48.78125 59.674375 50.78125 59.674375 \r\nz\r\n\" style=\"fill:#ffffff;opacity:0.8;stroke:#cccccc;stroke-linejoin:miter;\"/>\r\n    </g>\r\n    <g id=\"line2d_15\">\r\n     <path d=\"M 52.78125 35.416562 \r\nL 72.78125 35.416562 \r\n\" style=\"fill:none;stroke:#1f77b4;stroke-linecap:square;stroke-width:1.5;\"/>\r\n    </g>\r\n    <g id=\"line2d_16\"/>\r\n    <g id=\"text_16\">\r\n     <!-- By sklearn -->\r\n     <g transform=\"translate(80.78125 38.916562)scale(0.1 -0.1)\">\r\n      <defs>\r\n       <path d=\"M 1259 2228 \r\nL 1259 519 \r\nL 2272 519 \r\nQ 2781 519 3026 730 \r\nQ 3272 941 3272 1375 \r\nQ 3272 1813 3026 2020 \r\nQ 2781 2228 2272 2228 \r\nL 1259 2228 \r\nz\r\nM 1259 4147 \r\nL 1259 2741 \r\nL 2194 2741 \r\nQ 2656 2741 2882 2914 \r\nQ 3109 3088 3109 3444 \r\nQ 3109 3797 2882 3972 \r\nQ 2656 4147 2194 4147 \r\nL 1259 4147 \r\nz\r\nM 628 4666 \r\nL 2241 4666 \r\nQ 2963 4666 3353 4366 \r\nQ 3744 4066 3744 3513 \r\nQ 3744 3084 3544 2831 \r\nQ 3344 2578 2956 2516 \r\nQ 3422 2416 3680 2098 \r\nQ 3938 1781 3938 1306 \r\nQ 3938 681 3513 340 \r\nQ 3088 0 2303 0 \r\nL 628 0 \r\nL 628 4666 \r\nz\r\n\" id=\"DejaVuSans-42\" transform=\"scale(0.015625)\"/>\r\n      </defs>\r\n      <use xlink:href=\"#DejaVuSans-42\"/>\r\n      <use x=\"68.603516\" xlink:href=\"#DejaVuSans-79\"/>\r\n      <use x=\"127.783203\" xlink:href=\"#DejaVuSans-20\"/>\r\n      <use x=\"159.570312\" xlink:href=\"#DejaVuSans-73\"/>\r\n      <use x=\"211.669922\" xlink:href=\"#DejaVuSans-6b\"/>\r\n      <use x=\"269.580078\" xlink:href=\"#DejaVuSans-6c\"/>\r\n      <use x=\"297.363281\" xlink:href=\"#DejaVuSans-65\"/>\r\n      <use x=\"358.886719\" xlink:href=\"#DejaVuSans-61\"/>\r\n      <use x=\"420.166016\" xlink:href=\"#DejaVuSans-72\"/>\r\n      <use x=\"459.529297\" xlink:href=\"#DejaVuSans-6e\"/>\r\n     </g>\r\n    </g>\r\n    <g id=\"line2d_17\">\r\n     <path d=\"M 52.78125 50.094687 \r\nL 72.78125 50.094687 \r\n\" style=\"fill:none;stroke:#ff7f0e;stroke-linecap:square;stroke-width:1.5;\"/>\r\n    </g>\r\n    <g id=\"line2d_18\"/>\r\n    <g id=\"text_17\">\r\n     <!-- Manual -->\r\n     <g transform=\"translate(80.78125 53.594687)scale(0.1 -0.1)\">\r\n      <defs>\r\n       <path d=\"M 628 4666 \r\nL 1569 4666 \r\nL 2759 1491 \r\nL 3956 4666 \r\nL 4897 4666 \r\nL 4897 0 \r\nL 4281 0 \r\nL 4281 4097 \r\nL 3078 897 \r\nL 2444 897 \r\nL 1241 4097 \r\nL 1241 0 \r\nL 628 0 \r\nL 628 4666 \r\nz\r\n\" id=\"DejaVuSans-4d\" transform=\"scale(0.015625)\"/>\r\n      </defs>\r\n      <use xlink:href=\"#DejaVuSans-4d\"/>\r\n      <use x=\"86.279297\" xlink:href=\"#DejaVuSans-61\"/>\r\n      <use x=\"147.558594\" xlink:href=\"#DejaVuSans-6e\"/>\r\n      <use x=\"210.9375\" xlink:href=\"#DejaVuSans-75\"/>\r\n      <use x=\"274.316406\" xlink:href=\"#DejaVuSans-61\"/>\r\n      <use x=\"335.595703\" xlink:href=\"#DejaVuSans-6c\"/>\r\n     </g>\r\n    </g>\r\n   </g>\r\n  </g>\r\n </g>\r\n <defs>\r\n  <clipPath id=\"pc58dfeadcf\">\r\n   <rect height=\"217.44\" width=\"334.8\" x=\"43.78125\" y=\"22.318125\"/>\r\n  </clipPath>\r\n </defs>\r\n</svg>\r\n",
      "image/png": "[encoded data removed]"
     },
     "metadata": {
      "needs_background": "light"
     }
    }
   ],
   "metadata": {}
  }
 ],
 "metadata": {
  "orig_nbformat": 4,
  "language_info": {
   "name": "python",
   "version": "3.8.5",
   "mimetype": "text/x-python",
   "codemirror_mode": {
    "name": "ipython",
    "version": 3
   },
   "pygments_lexer": "ipython3",
   "nbconvert_exporter": "python",
   "file_extension": ".py"
  },
  "kernelspec": {
   "name": "python3",
   "display_name": "Python 3.8.5 64-bit ('base': conda)"
  },
  "interpreter": {
   "hash": "b4760074067732e81c03fa2f3451350d5e78e45f688639748e9cab7f332de886"
  }
 },
 "nbformat": 4,
 "nbformat_minor": 2
}