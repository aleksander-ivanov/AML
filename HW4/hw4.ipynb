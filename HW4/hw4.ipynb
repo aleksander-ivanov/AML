{
 "cells": [
  {
   "cell_type": "markdown",
   "source": [
    "# Домашнее задание \"Проблема качества данных\"\r\n"
   ],
   "metadata": {}
  },
  {
   "cell_type": "markdown",
   "source": [
    "### Задание\r\n",
    "Необходимо запустить практическую часть занятия, и посмотреть самому то, о чём говорили на лекции. По образу практики, попробуйте создать искусственный датасет с лишними столбцами. Целевую метку, при правильной обработке данных, формируйте таким образом, чтобы без затруднений её смогла описать линейная модель. Ориентируйтесь на то, что было показано во время занятия, и каждый шаг описывайте в markdown. Здесь важно видеть ваш ход мысли. Не бойтесь ошибиться или написать не то. Данное задание не имеет какого-то “правильного” решения. Цель - достичь базового понимания проблемы. Чем больше вы фантазируете, тем лучше :) Тем не менее, старайтесь представить те ситуации, которые по-вашему мнению могли бы быть в реальных данных."
   ],
   "metadata": {}
  },
  {
   "cell_type": "code",
   "execution_count": 1,
   "source": [
    "import numpy as np\r\n",
    "import pandas as pd\r\n",
    "import seaborn as sns\r\n",
    "\r\n",
    "from sklearn.linear_model import LinearRegression\r\n",
    "from sklearn.metrics import mean_absolute_error\r\n",
    "from sklearn.preprocessing import OneHotEncoder\r\n",
    "from sklearn.preprocessing import StandardScaler\r\n"
   ],
   "outputs": [],
   "metadata": {}
  },
  {
   "cell_type": "code",
   "execution_count": 2,
   "source": [
    "def print_ml_model_report(df, cols, target_col):\r\n",
    "\r\n",
    "    X = df[cols]\r\n",
    "    y = df[target_col]\r\n",
    "\r\n",
    "    reg = LinearRegression().fit(X, y)\r\n",
    "\r\n",
    "    print('Weights: {}'.format(reg.coef_))\r\n",
    "    print('Bias: {}'.format(reg.intercept_))\r\n",
    "\r\n",
    "    pred_values = reg.predict(df[cols])\r\n",
    "    print('Error: {}'.format(mean_absolute_error(pred_values, y)))\r\n"
   ],
   "outputs": [],
   "metadata": {}
  },
  {
   "cell_type": "markdown",
   "source": [],
   "metadata": {}
  },
  {
   "cell_type": "code",
   "execution_count": 3,
   "source": [
    "# Creating cars dataset\r\n",
    "n_samples = 10000\r\n",
    "car_color_types = ['white', 'green', 'blue', 'red', 'black']\r\n",
    "\r\n",
    "car_color = np.random.choice(car_color_types, n_samples)\r\n",
    "car_length = np.random.randint(low=1200, high=5000, size=n_samples) + 26  # car_length in mm plus noise digit\r\n",
    "car_width = np.random.uniform(low=1., high=1.5, size=n_samples) + 0.2  # car_width in meters plus noise digit\r\n",
    "car_horsepower = np.random.randint(low=75, high=500, size=n_samples) + 12\r\n",
    "\r\n",
    "# to calculate target convert car_length to meter\r\n",
    "# car_horsepower convert to kiloWatts (multiply by 0.735)\r\n",
    "# add some noise (* 25 + 226)\r\n",
    "car_price = (car_length / 1000) * car_width * (car_horsepower * 0.735) * 25 + 226  # target\r\n",
    "\r\n",
    "cars_df = pd.DataFrame(\r\n",
    "    {'car_color': car_color, 'car_length (mm)': car_length, 'car_width (m)': car_width, 'car_power (horsepower)': car_horsepower, 'car_price ($)': car_price})\r\n",
    "cars_df\r\n"
   ],
   "outputs": [
    {
     "output_type": "execute_result",
     "data": {
      "text/plain": [
       "     car_color  car_length (mm)  car_width (m)  car_power (horsepower)  \\\n",
       "0         blue             2512       1.366303                     221   \n",
       "1        white             3851       1.608684                     382   \n",
       "2        black             4191       1.217700                     377   \n",
       "3        white             2636       1.233170                     311   \n",
       "4         blue             3071       1.533365                     332   \n",
       "...        ...              ...            ...                     ...   \n",
       "9995       red             2668       1.699830                      90   \n",
       "9996      blue             4862       1.487922                     473   \n",
       "9997     green             3956       1.492615                     483   \n",
       "9998     green             1713       1.453423                     181   \n",
       "9999     green             4480       1.464848                      92   \n",
       "\n",
       "      car_price ($)  \n",
       "0      14163.545752  \n",
       "1      43710.538300  \n",
       "2      35579.045848  \n",
       "3      18802.173848  \n",
       "4      28953.027555  \n",
       "...             ...  \n",
       "9995    7725.996317  \n",
       "9996   63101.812064  \n",
       "9997   52631.701091  \n",
       "9998    8506.476730  \n",
       "9999   11319.938888  \n",
       "\n",
       "[10000 rows x 5 columns]"
      ],
      "text/html": [
       "<div>\n",
       "<style scoped>\n",
       "    .dataframe tbody tr th:only-of-type {\n",
       "        vertical-align: middle;\n",
       "    }\n",
       "\n",
       "    .dataframe tbody tr th {\n",
       "        vertical-align: top;\n",
       "    }\n",
       "\n",
       "    .dataframe thead th {\n",
       "        text-align: right;\n",
       "    }\n",
       "</style>\n",
       "<table border=\"1\" class=\"dataframe\">\n",
       "  <thead>\n",
       "    <tr style=\"text-align: right;\">\n",
       "      <th></th>\n",
       "      <th>car_color</th>\n",
       "      <th>car_length (mm)</th>\n",
       "      <th>car_width (m)</th>\n",
       "      <th>car_power (horsepower)</th>\n",
       "      <th>car_price ($)</th>\n",
       "    </tr>\n",
       "  </thead>\n",
       "  <tbody>\n",
       "    <tr>\n",
       "      <th>0</th>\n",
       "      <td>blue</td>\n",
       "      <td>2512</td>\n",
       "      <td>1.366303</td>\n",
       "      <td>221</td>\n",
       "      <td>14163.545752</td>\n",
       "    </tr>\n",
       "    <tr>\n",
       "      <th>1</th>\n",
       "      <td>white</td>\n",
       "      <td>3851</td>\n",
       "      <td>1.608684</td>\n",
       "      <td>382</td>\n",
       "      <td>43710.538300</td>\n",
       "    </tr>\n",
       "    <tr>\n",
       "      <th>2</th>\n",
       "      <td>black</td>\n",
       "      <td>4191</td>\n",
       "      <td>1.217700</td>\n",
       "      <td>377</td>\n",
       "      <td>35579.045848</td>\n",
       "    </tr>\n",
       "    <tr>\n",
       "      <th>3</th>\n",
       "      <td>white</td>\n",
       "      <td>2636</td>\n",
       "      <td>1.233170</td>\n",
       "      <td>311</td>\n",
       "      <td>18802.173848</td>\n",
       "    </tr>\n",
       "    <tr>\n",
       "      <th>4</th>\n",
       "      <td>blue</td>\n",
       "      <td>3071</td>\n",
       "      <td>1.533365</td>\n",
       "      <td>332</td>\n",
       "      <td>28953.027555</td>\n",
       "    </tr>\n",
       "    <tr>\n",
       "      <th>...</th>\n",
       "      <td>...</td>\n",
       "      <td>...</td>\n",
       "      <td>...</td>\n",
       "      <td>...</td>\n",
       "      <td>...</td>\n",
       "    </tr>\n",
       "    <tr>\n",
       "      <th>9995</th>\n",
       "      <td>red</td>\n",
       "      <td>2668</td>\n",
       "      <td>1.699830</td>\n",
       "      <td>90</td>\n",
       "      <td>7725.996317</td>\n",
       "    </tr>\n",
       "    <tr>\n",
       "      <th>9996</th>\n",
       "      <td>blue</td>\n",
       "      <td>4862</td>\n",
       "      <td>1.487922</td>\n",
       "      <td>473</td>\n",
       "      <td>63101.812064</td>\n",
       "    </tr>\n",
       "    <tr>\n",
       "      <th>9997</th>\n",
       "      <td>green</td>\n",
       "      <td>3956</td>\n",
       "      <td>1.492615</td>\n",
       "      <td>483</td>\n",
       "      <td>52631.701091</td>\n",
       "    </tr>\n",
       "    <tr>\n",
       "      <th>9998</th>\n",
       "      <td>green</td>\n",
       "      <td>1713</td>\n",
       "      <td>1.453423</td>\n",
       "      <td>181</td>\n",
       "      <td>8506.476730</td>\n",
       "    </tr>\n",
       "    <tr>\n",
       "      <th>9999</th>\n",
       "      <td>green</td>\n",
       "      <td>4480</td>\n",
       "      <td>1.464848</td>\n",
       "      <td>92</td>\n",
       "      <td>11319.938888</td>\n",
       "    </tr>\n",
       "  </tbody>\n",
       "</table>\n",
       "<p>10000 rows × 5 columns</p>\n",
       "</div>"
      ]
     },
     "metadata": {},
     "execution_count": 3
    }
   ],
   "metadata": {}
  },
  {
   "cell_type": "code",
   "execution_count": 4,
   "source": [
    "# print report, bad results...\r\n",
    "cols = ['car_length (mm)', 'car_width (m)', 'car_power (horsepower)']\r\n",
    "print_ml_model_report(cars_df, cols, 'car_price ($)')\r\n"
   ],
   "outputs": [
    {
     "output_type": "stream",
     "name": "stdout",
     "text": [
      "Weights: [7.98996714e+00 1.70819804e+04 8.23979598e+01]\n",
      "Bias: -49193.28074881459\n",
      "Error: 2846.241993996496\n"
     ]
    }
   ],
   "metadata": {}
  },
  {
   "cell_type": "code",
   "execution_count": 5,
   "source": [
    "# let's improve model, try to use categorial column 'car_color'\r\n",
    "# convert categorial data to numbers using by one hot encoding\r\n",
    "encoder = OneHotEncoder()\r\n",
    "encoder_results = encoder.fit_transform(cars_df[['car_color']]).toarray()\r\n",
    "enc_df = pd.DataFrame(encoder_results, columns=encoder.categories_)\r\n",
    "encoded_df = cars_df.join(enc_df)\r\n",
    "\r\n",
    "encoded_df = encoded_df.drop('car_color', 1)\r\n",
    "# encoded_df.head()\r\n",
    "\r\n",
    "# print report - as we can see from the report, it got worse\r\n",
    "print_ml_model_report(encoded_df, encoded_df.columns, 'car_price ($)')\r\n"
   ],
   "outputs": [
    {
     "output_type": "stream",
     "name": "stdout",
     "text": [
      "Weights: [ 1.01549174e-15 -2.19928661e-11 -2.31483859e-14  1.00000000e+00\n",
      "  5.62779749e-13  4.62832467e-15 -3.15619577e-13 -9.33164496e-13\n",
      "  6.81376003e-13]\n",
      "Bias: 1.8189894035458565e-11\n",
      "Error: 7.129847290343605e-12\n"
     ]
    }
   ],
   "metadata": {}
  },
  {
   "cell_type": "code",
   "execution_count": 6,
   "source": [
    "# let's try to add new columns\r\n",
    "# convert 'car_length' to meter\r\n",
    "cars_df['car_length (m)'] = cars_df['car_length (mm)'] / 1000\r\n",
    "\r\n",
    "# print report - not the best\r\n",
    "print_ml_model_report(cars_df, ['car_length (m)', 'car_width (m)', 'car_power (horsepower)'], 'car_price ($)')\r\n"
   ],
   "outputs": [
    {
     "output_type": "stream",
     "name": "stdout",
     "text": [
      "Weights: [ 7989.96714236 17081.98044143    82.39795977]\n",
      "Bias: -49193.28074882693\n",
      "Error: 2846.2419939966067\n"
     ]
    }
   ],
   "metadata": {}
  },
  {
   "cell_type": "code",
   "execution_count": 7,
   "source": [
    "# convert 'car_power' to kiloWatts\r\n",
    "cars_df['car_power (kiloWatts)'] = cars_df['car_power (horsepower)'] * 0.735\r\n",
    "\r\n",
    "# print report - the same results\r\n",
    "print_ml_model_report(cars_df, ['car_length (m)', 'car_width (m)', 'car_power (kiloWatts)'], 'car_price ($)')\r\n"
   ],
   "outputs": [
    {
     "output_type": "stream",
     "name": "stdout",
     "text": [
      "Weights: [ 7989.96714236 17081.98044143   112.10606771]\n",
      "Bias: -49193.2807488238\n",
      "Error: 2846.241993996579\n"
     ]
    }
   ],
   "metadata": {}
  },
  {
   "cell_type": "code",
   "execution_count": 8,
   "source": [
    "# let's try to use StandartScaler()\r\n",
    "scaler = StandardScaler()\r\n",
    "to_scale_df = cars_df[[\r\n",
    "    'car_length (m)', 'car_width (m)', 'car_power (kiloWatts)', 'car_price ($)']]\r\n",
    "scaler.fit(to_scale_df)\r\n",
    "\r\n",
    "scaler_df = pd.DataFrame(scaler.transform(\r\n",
    "    to_scale_df), columns=to_scale_df.columns)\r\n",
    "\r\n",
    "# print report - not the best again\r\n",
    "print_ml_model_report(scaler_df, [\r\n",
    "                      'car_length (m)', 'car_width (m)', 'car_power (kiloWatts)'], 'car_price ($)')\r\n"
   ],
   "outputs": [
    {
     "output_type": "stream",
     "name": "stdout",
     "text": [
      "Weights: [0.616179   0.17450434 0.70816096]\n",
      "Bias: 7.748056944300584e-16\n",
      "Error: 0.2002432278750497\n"
     ]
    }
   ],
   "metadata": {}
  },
  {
   "cell_type": "code",
   "execution_count": 9,
   "source": [
    "# let's try to add 'multi' column - multiply 'car_length (m)', 'car_width (m)', 'car_power (kiloWatts)' cols\r\n",
    "cars_df['multi'] = cars_df['car_length (m)'] * cars_df['car_width (m)'] * cars_df['car_power (kiloWatts)']\r\n",
    "\r\n",
    "# print report - looks now much better\r\n",
    "print_ml_model_report(cars_df, ['multi'], 'car_price ($)')\r\n"
   ],
   "outputs": [
    {
     "output_type": "stream",
     "name": "stdout",
     "text": [
      "Weights: [25.]\n",
      "Bias: 226.00000000001455\n",
      "Error: 6.7067958298139275e-12\n"
     ]
    }
   ],
   "metadata": {}
  }
 ],
 "metadata": {
  "orig_nbformat": 4,
  "language_info": {
   "name": "python",
   "version": "3.8.5",
   "mimetype": "text/x-python",
   "codemirror_mode": {
    "name": "ipython",
    "version": 3
   },
   "pygments_lexer": "ipython3",
   "nbconvert_exporter": "python",
   "file_extension": ".py"
  },
  "kernelspec": {
   "name": "python3",
   "display_name": "Python 3.8.5 64-bit ('base': conda)"
  },
  "interpreter": {
   "hash": "b4760074067732e81c03fa2f3451350d5e78e45f688639748e9cab7f332de886"
  }
 },
 "nbformat": 4,
 "nbformat_minor": 2
}